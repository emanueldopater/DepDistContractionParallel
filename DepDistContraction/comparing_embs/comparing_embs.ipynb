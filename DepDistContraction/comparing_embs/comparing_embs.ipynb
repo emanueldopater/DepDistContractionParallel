{
 "cells": [
  {
   "cell_type": "code",
   "execution_count": 14,
   "metadata": {},
   "outputs": [],
   "source": [
    "import os\n",
    "import subprocess"
   ]
  },
  {
   "cell_type": "code",
   "execution_count": 15,
   "metadata": {},
   "outputs": [],
   "source": [
    "nets = [ 'p2p_gnutella08', 'lastfm_asia', 'facebook_combined']"
   ]
  },
  {
   "cell_type": "code",
   "execution_count": 16,
   "metadata": {},
   "outputs": [],
   "source": [
    "emb_folder_name = 'embs_BE_N_q_swap'\n",
    "results_folder_name = 'result_BE_N_q_swap'"
   ]
  },
  {
   "cell_type": "code",
   "execution_count": 17,
   "metadata": {},
   "outputs": [
    {
     "name": "stdout",
     "output_type": "stream",
     "text": [
      "dim_4emb_2.embs\n"
     ]
    },
    {
     "name": "stderr",
     "output_type": "stream",
     "text": [
      "0.815566\n"
     ]
    }
   ],
   "source": [
    "\n",
    "for net in nets:\n",
    "    for file in os.listdir(\"../results/\" + net + \"/\"):\n",
    "        \n",
    "        if file == '.DS_Store': continue\n",
    "        \n",
    "        # if file is not directory, skip\n",
    "        if not os.path.isdir(\"../results/\" + net +\"/\" + file):\n",
    "            continue\n",
    "\n",
    "        for emb_file in os.listdir(\"../results/\" + net + \"/\" + file +\"/\"+emb_folder_name ):\n",
    "            print(file + emb_file)\n",
    "\n",
    "            if emb_file == '.DS_Store': continue\n",
    "\n",
    "\n",
    "            command = [\n",
    "                \"julia\",\n",
    "                \"./CGE_CLI.jl\",\n",
    "                \"-g\",\n",
    "                \"../results/remapped_nets/\" + net +\"_reindexed.csv\",\n",
    "                \"-e\",\n",
    "                os.path.join(\"../results/\"+ net+\"/\" + file +\"/\" + emb_folder_name+ \"/\", emb_file),\n",
    "                \"--result_name\",\n",
    "                \"../results/\" + net +\"/\" + file +\"/\" +results_folder_name +  \"/\" + emb_file + \"_result.csv\",\n",
    "                \"-v\"\n",
    "            ]\n",
    "            output = subprocess.check_output(command, shell=False)"
   ]
  },
  {
   "cell_type": "code",
   "execution_count": 6,
   "metadata": {},
   "outputs": [],
   "source": [
    "emb_folder_name = 'embs_big_node_edges_neighs_of_neighs'\n",
    "results_folder_name = 'result_big_node_edges_neighs_of_neighs'"
   ]
  },
  {
   "cell_type": "code",
   "execution_count": 9,
   "metadata": {},
   "outputs": [],
   "source": [
    "emb_folder_name = 'embs_uniform_neighs_of_neighs'\n",
    "results_folder_name = 'result_uniform_edges_neighs_of_neighs'"
   ]
  },
  {
   "cell_type": "code",
   "execution_count": 10,
   "metadata": {},
   "outputs": [
    {
     "name": "stdout",
     "output_type": "stream",
     "text": [
      "dim_16emb_0.embs\n"
     ]
    },
    {
     "name": "stderr",
     "output_type": "stream",
     "text": [
      "0.404676\n"
     ]
    },
    {
     "name": "stdout",
     "output_type": "stream",
     "text": [
      "dim_16emb_1.embs\n"
     ]
    },
    {
     "name": "stderr",
     "output_type": "stream",
     "text": [
      "0.415413\n"
     ]
    },
    {
     "name": "stdout",
     "output_type": "stream",
     "text": [
      "dim_16emb_6.embs\n"
     ]
    },
    {
     "name": "stderr",
     "output_type": "stream",
     "text": [
      "0.416195\n"
     ]
    },
    {
     "name": "stdout",
     "output_type": "stream",
     "text": [
      "dim_16emb_7.embs\n"
     ]
    },
    {
     "name": "stderr",
     "output_type": "stream",
     "text": [
      "0.414413\n"
     ]
    },
    {
     "name": "stdout",
     "output_type": "stream",
     "text": [
      "dim_16emb_4.embs\n"
     ]
    },
    {
     "name": "stderr",
     "output_type": "stream",
     "text": [
      "0.392588\n"
     ]
    },
    {
     "name": "stdout",
     "output_type": "stream",
     "text": [
      "dim_16emb_8.embs\n"
     ]
    },
    {
     "name": "stderr",
     "output_type": "stream",
     "text": [
      "0.416064\n"
     ]
    },
    {
     "name": "stdout",
     "output_type": "stream",
     "text": [
      "dim_16emb_9.embs\n"
     ]
    },
    {
     "name": "stderr",
     "output_type": "stream",
     "text": [
      "0.412984\n"
     ]
    },
    {
     "name": "stdout",
     "output_type": "stream",
     "text": [
      "dim_16emb_5.embs\n"
     ]
    },
    {
     "name": "stderr",
     "output_type": "stream",
     "text": [
      "0.410463\n"
     ]
    },
    {
     "name": "stdout",
     "output_type": "stream",
     "text": [
      "dim_16emb_2.embs\n"
     ]
    },
    {
     "name": "stderr",
     "output_type": "stream",
     "text": [
      "0.41319\n"
     ]
    },
    {
     "name": "stdout",
     "output_type": "stream",
     "text": [
      "dim_16emb_3.embs\n"
     ]
    },
    {
     "name": "stderr",
     "output_type": "stream",
     "text": [
      "0.415525\n"
     ]
    },
    {
     "name": "stdout",
     "output_type": "stream",
     "text": [
      "dim_4emb_0.embs\n"
     ]
    },
    {
     "name": "stderr",
     "output_type": "stream",
     "text": [
      "0.416175\n"
     ]
    },
    {
     "name": "stdout",
     "output_type": "stream",
     "text": [
      "dim_4emb_1.embs\n"
     ]
    },
    {
     "name": "stderr",
     "output_type": "stream",
     "text": [
      "0.4095\n"
     ]
    },
    {
     "name": "stdout",
     "output_type": "stream",
     "text": [
      "dim_4emb_6.embs\n"
     ]
    },
    {
     "name": "stderr",
     "output_type": "stream",
     "text": [
      "0.414236\n"
     ]
    },
    {
     "name": "stdout",
     "output_type": "stream",
     "text": [
      "dim_4emb_7.embs\n"
     ]
    },
    {
     "name": "stderr",
     "output_type": "stream",
     "text": [
      "0.412121\n"
     ]
    },
    {
     "name": "stdout",
     "output_type": "stream",
     "text": [
      "dim_4emb_4.embs\n"
     ]
    },
    {
     "name": "stderr",
     "output_type": "stream",
     "text": [
      "0.415253\n"
     ]
    },
    {
     "name": "stdout",
     "output_type": "stream",
     "text": [
      "dim_4emb_8.embs\n"
     ]
    },
    {
     "name": "stderr",
     "output_type": "stream",
     "text": [
      "0.415923\n"
     ]
    },
    {
     "name": "stdout",
     "output_type": "stream",
     "text": [
      "dim_4emb_9.embs\n"
     ]
    },
    {
     "name": "stderr",
     "output_type": "stream",
     "text": [
      "0.412577\n"
     ]
    },
    {
     "name": "stdout",
     "output_type": "stream",
     "text": [
      "dim_4emb_5.embs\n"
     ]
    },
    {
     "name": "stderr",
     "output_type": "stream",
     "text": [
      "0.412625\n"
     ]
    },
    {
     "name": "stdout",
     "output_type": "stream",
     "text": [
      "dim_4emb_2.embs\n"
     ]
    },
    {
     "name": "stderr",
     "output_type": "stream",
     "text": [
      "0.410473\n"
     ]
    },
    {
     "name": "stdout",
     "output_type": "stream",
     "text": [
      "dim_4emb_3.embs\n"
     ]
    },
    {
     "name": "stderr",
     "output_type": "stream",
     "text": [
      "0.412869\n"
     ]
    },
    {
     "name": "stdout",
     "output_type": "stream",
     "text": [
      "dim_32emb_0.embs\n"
     ]
    },
    {
     "name": "stderr",
     "output_type": "stream",
     "text": [
      "0.412643\n"
     ]
    },
    {
     "name": "stdout",
     "output_type": "stream",
     "text": [
      "dim_32emb_1.embs\n"
     ]
    },
    {
     "name": "stderr",
     "output_type": "stream",
     "text": [
      "0.411591\n"
     ]
    },
    {
     "name": "stdout",
     "output_type": "stream",
     "text": [
      "dim_32emb_6.embs\n"
     ]
    },
    {
     "name": "stderr",
     "output_type": "stream",
     "text": [
      "0.412871\n"
     ]
    },
    {
     "name": "stdout",
     "output_type": "stream",
     "text": [
      "dim_32emb_7.embs\n"
     ]
    },
    {
     "name": "stderr",
     "output_type": "stream",
     "text": [
      "0.415208\n"
     ]
    },
    {
     "name": "stdout",
     "output_type": "stream",
     "text": [
      "dim_32emb_4.embs\n"
     ]
    },
    {
     "name": "stderr",
     "output_type": "stream",
     "text": [
      "0.412309\n"
     ]
    },
    {
     "name": "stdout",
     "output_type": "stream",
     "text": [
      "dim_32emb_8.embs\n"
     ]
    },
    {
     "name": "stderr",
     "output_type": "stream",
     "text": [
      "0.414085\n"
     ]
    },
    {
     "name": "stdout",
     "output_type": "stream",
     "text": [
      "dim_32emb_9.embs\n"
     ]
    },
    {
     "name": "stderr",
     "output_type": "stream",
     "text": [
      "0.412894\n"
     ]
    },
    {
     "name": "stdout",
     "output_type": "stream",
     "text": [
      "dim_32emb_5.embs\n"
     ]
    },
    {
     "name": "stderr",
     "output_type": "stream",
     "text": [
      "0.413333\n"
     ]
    },
    {
     "name": "stdout",
     "output_type": "stream",
     "text": [
      "dim_32emb_2.embs\n"
     ]
    },
    {
     "name": "stderr",
     "output_type": "stream",
     "text": [
      "0.414677\n"
     ]
    },
    {
     "name": "stdout",
     "output_type": "stream",
     "text": [
      "dim_32emb_3.embs\n"
     ]
    },
    {
     "name": "stderr",
     "output_type": "stream",
     "text": [
      "0.412975\n"
     ]
    },
    {
     "name": "stdout",
     "output_type": "stream",
     "text": [
      "dim_128emb_0.embs\n"
     ]
    },
    {
     "name": "stderr",
     "output_type": "stream",
     "text": [
      "0.401878\n"
     ]
    },
    {
     "name": "stdout",
     "output_type": "stream",
     "text": [
      "dim_128emb_1.embs\n"
     ]
    },
    {
     "name": "stderr",
     "output_type": "stream",
     "text": [
      "0.414179\n"
     ]
    },
    {
     "name": "stdout",
     "output_type": "stream",
     "text": [
      "dim_128emb_6.embs\n"
     ]
    },
    {
     "name": "stderr",
     "output_type": "stream",
     "text": [
      "0.411299\n"
     ]
    },
    {
     "name": "stdout",
     "output_type": "stream",
     "text": [
      "dim_128emb_7.embs\n"
     ]
    },
    {
     "name": "stderr",
     "output_type": "stream",
     "text": [
      "0.408726\n"
     ]
    },
    {
     "name": "stdout",
     "output_type": "stream",
     "text": [
      "dim_128emb_4.embs\n"
     ]
    },
    {
     "name": "stderr",
     "output_type": "stream",
     "text": [
      "0.413632\n"
     ]
    },
    {
     "name": "stdout",
     "output_type": "stream",
     "text": [
      "dim_128emb_8.embs\n"
     ]
    },
    {
     "name": "stderr",
     "output_type": "stream",
     "text": [
      "0.412156\n"
     ]
    },
    {
     "name": "stdout",
     "output_type": "stream",
     "text": [
      "dim_128emb_9.embs\n"
     ]
    },
    {
     "name": "stderr",
     "output_type": "stream",
     "text": [
      "0.413869\n"
     ]
    },
    {
     "name": "stdout",
     "output_type": "stream",
     "text": [
      "dim_128emb_5.embs\n"
     ]
    },
    {
     "name": "stderr",
     "output_type": "stream",
     "text": [
      "0.410998\n"
     ]
    },
    {
     "name": "stdout",
     "output_type": "stream",
     "text": [
      "dim_128emb_2.embs\n"
     ]
    },
    {
     "name": "stderr",
     "output_type": "stream",
     "text": [
      "0.41692\n"
     ]
    },
    {
     "name": "stdout",
     "output_type": "stream",
     "text": [
      "dim_128emb_3.embs\n"
     ]
    },
    {
     "name": "stderr",
     "output_type": "stream",
     "text": [
      "0.410881\n"
     ]
    },
    {
     "name": "stdout",
     "output_type": "stream",
     "text": [
      "dim_8emb_0.embs\n"
     ]
    },
    {
     "name": "stderr",
     "output_type": "stream",
     "text": [
      "0.412325\n"
     ]
    },
    {
     "name": "stdout",
     "output_type": "stream",
     "text": [
      "dim_8emb_1.embs\n"
     ]
    },
    {
     "name": "stderr",
     "output_type": "stream",
     "text": [
      "0.415056\n"
     ]
    },
    {
     "name": "stdout",
     "output_type": "stream",
     "text": [
      "dim_8emb_6.embs\n"
     ]
    },
    {
     "name": "stderr",
     "output_type": "stream",
     "text": [
      "0.41469\n"
     ]
    },
    {
     "name": "stdout",
     "output_type": "stream",
     "text": [
      "dim_8emb_7.embs\n"
     ]
    },
    {
     "name": "stderr",
     "output_type": "stream",
     "text": [
      "0.413611\n"
     ]
    },
    {
     "name": "stdout",
     "output_type": "stream",
     "text": [
      "dim_8emb_4.embs\n"
     ]
    },
    {
     "name": "stderr",
     "output_type": "stream",
     "text": [
      "0.414612\n"
     ]
    },
    {
     "name": "stdout",
     "output_type": "stream",
     "text": [
      "dim_8emb_8.embs\n"
     ]
    },
    {
     "name": "stderr",
     "output_type": "stream",
     "text": [
      "0.414976\n"
     ]
    },
    {
     "name": "stdout",
     "output_type": "stream",
     "text": [
      "dim_8emb_9.embs\n"
     ]
    },
    {
     "name": "stderr",
     "output_type": "stream",
     "text": [
      "0.414802\n"
     ]
    },
    {
     "name": "stdout",
     "output_type": "stream",
     "text": [
      "dim_8emb_5.embs\n"
     ]
    },
    {
     "name": "stderr",
     "output_type": "stream",
     "text": [
      "0.413116\n"
     ]
    },
    {
     "name": "stdout",
     "output_type": "stream",
     "text": [
      "dim_8emb_2.embs\n"
     ]
    },
    {
     "name": "stderr",
     "output_type": "stream",
     "text": [
      "0.412448\n"
     ]
    },
    {
     "name": "stdout",
     "output_type": "stream",
     "text": [
      "dim_8emb_3.embs\n"
     ]
    },
    {
     "name": "stderr",
     "output_type": "stream",
     "text": [
      "0.414712\n"
     ]
    },
    {
     "name": "stdout",
     "output_type": "stream",
     "text": [
      "dim_64emb_0.embs\n"
     ]
    },
    {
     "name": "stderr",
     "output_type": "stream",
     "text": [
      "0.413562\n"
     ]
    },
    {
     "name": "stdout",
     "output_type": "stream",
     "text": [
      "dim_64emb_1.embs\n"
     ]
    },
    {
     "name": "stderr",
     "output_type": "stream",
     "text": [
      "0.406933\n"
     ]
    },
    {
     "name": "stdout",
     "output_type": "stream",
     "text": [
      "dim_64emb_6.embs\n"
     ]
    },
    {
     "name": "stderr",
     "output_type": "stream",
     "text": [
      "0.416081\n"
     ]
    },
    {
     "name": "stdout",
     "output_type": "stream",
     "text": [
      "dim_64emb_7.embs\n"
     ]
    },
    {
     "name": "stderr",
     "output_type": "stream",
     "text": [
      "0.415044\n"
     ]
    },
    {
     "name": "stdout",
     "output_type": "stream",
     "text": [
      "dim_64emb_4.embs\n"
     ]
    },
    {
     "name": "stderr",
     "output_type": "stream",
     "text": [
      "0.410041\n"
     ]
    },
    {
     "name": "stdout",
     "output_type": "stream",
     "text": [
      "dim_64emb_8.embs\n"
     ]
    },
    {
     "name": "stderr",
     "output_type": "stream",
     "text": [
      "0.41438\n"
     ]
    },
    {
     "name": "stdout",
     "output_type": "stream",
     "text": [
      "dim_64emb_9.embs\n"
     ]
    },
    {
     "name": "stderr",
     "output_type": "stream",
     "text": [
      "0.413361\n"
     ]
    },
    {
     "name": "stdout",
     "output_type": "stream",
     "text": [
      "dim_64emb_5.embs\n"
     ]
    },
    {
     "name": "stderr",
     "output_type": "stream",
     "text": [
      "0.413583\n"
     ]
    },
    {
     "name": "stdout",
     "output_type": "stream",
     "text": [
      "dim_64emb_2.embs\n"
     ]
    },
    {
     "name": "stderr",
     "output_type": "stream",
     "text": [
      "0.41461\n"
     ]
    },
    {
     "name": "stdout",
     "output_type": "stream",
     "text": [
      "dim_64emb_3.embs\n"
     ]
    },
    {
     "name": "stderr",
     "output_type": "stream",
     "text": [
      "0.410964\n"
     ]
    },
    {
     "name": "stdout",
     "output_type": "stream",
     "text": [
      "dim_16emb_0.embs\n"
     ]
    },
    {
     "name": "stderr",
     "output_type": "stream",
     "text": [
      "0.205821\n"
     ]
    },
    {
     "name": "stdout",
     "output_type": "stream",
     "text": [
      "dim_16emb_1.embs\n"
     ]
    },
    {
     "name": "stderr",
     "output_type": "stream",
     "text": [
      "0.209065\n"
     ]
    },
    {
     "name": "stdout",
     "output_type": "stream",
     "text": [
      "dim_16emb_6.embs\n"
     ]
    },
    {
     "name": "stderr",
     "output_type": "stream",
     "text": [
      "0.213677\n"
     ]
    },
    {
     "name": "stdout",
     "output_type": "stream",
     "text": [
      "dim_16emb_7.embs\n"
     ]
    },
    {
     "name": "stderr",
     "output_type": "stream",
     "text": [
      "0.211515\n"
     ]
    },
    {
     "name": "stdout",
     "output_type": "stream",
     "text": [
      "dim_16emb_4.embs\n"
     ]
    },
    {
     "name": "stderr",
     "output_type": "stream",
     "text": [
      "0.212631\n"
     ]
    },
    {
     "name": "stdout",
     "output_type": "stream",
     "text": [
      "dim_16emb_8.embs\n"
     ]
    },
    {
     "name": "stderr",
     "output_type": "stream",
     "text": [
      "0.211857\n"
     ]
    },
    {
     "name": "stdout",
     "output_type": "stream",
     "text": [
      "dim_16emb_9.embs\n"
     ]
    },
    {
     "name": "stderr",
     "output_type": "stream",
     "text": [
      "0.205184\n"
     ]
    },
    {
     "name": "stdout",
     "output_type": "stream",
     "text": [
      "dim_16emb_5.embs\n"
     ]
    },
    {
     "name": "stderr",
     "output_type": "stream",
     "text": [
      "0.213183\n"
     ]
    },
    {
     "name": "stdout",
     "output_type": "stream",
     "text": [
      "dim_16emb_2.embs\n"
     ]
    },
    {
     "name": "stderr",
     "output_type": "stream",
     "text": [
      "0.208204\n"
     ]
    },
    {
     "name": "stdout",
     "output_type": "stream",
     "text": [
      "dim_16emb_3.embs\n"
     ]
    },
    {
     "name": "stderr",
     "output_type": "stream",
     "text": [
      "0.206722\n"
     ]
    },
    {
     "name": "stdout",
     "output_type": "stream",
     "text": [
      "dim_4emb_0.embs\n"
     ]
    },
    {
     "name": "stderr",
     "output_type": "stream",
     "text": [
      "0.208767\n"
     ]
    },
    {
     "name": "stdout",
     "output_type": "stream",
     "text": [
      "dim_4emb_1.embs\n"
     ]
    },
    {
     "name": "stderr",
     "output_type": "stream",
     "text": [
      "0.208134\n"
     ]
    },
    {
     "name": "stdout",
     "output_type": "stream",
     "text": [
      "dim_4emb_6.embs\n"
     ]
    },
    {
     "name": "stderr",
     "output_type": "stream",
     "text": [
      "0.21039\n"
     ]
    },
    {
     "name": "stdout",
     "output_type": "stream",
     "text": [
      "dim_4emb_7.embs\n"
     ]
    },
    {
     "name": "stderr",
     "output_type": "stream",
     "text": [
      "0.211313\n"
     ]
    },
    {
     "name": "stdout",
     "output_type": "stream",
     "text": [
      "dim_4emb_4.embs\n"
     ]
    },
    {
     "name": "stderr",
     "output_type": "stream",
     "text": [
      "0.209429\n"
     ]
    },
    {
     "name": "stdout",
     "output_type": "stream",
     "text": [
      "dim_4emb_8.embs\n"
     ]
    },
    {
     "name": "stderr",
     "output_type": "stream",
     "text": [
      "0.200794\n"
     ]
    },
    {
     "name": "stdout",
     "output_type": "stream",
     "text": [
      "dim_4emb_9.embs\n"
     ]
    },
    {
     "name": "stderr",
     "output_type": "stream",
     "text": [
      "0.209361\n"
     ]
    },
    {
     "name": "stdout",
     "output_type": "stream",
     "text": [
      "dim_4emb_5.embs\n"
     ]
    },
    {
     "name": "stderr",
     "output_type": "stream",
     "text": [
      "0.211618\n"
     ]
    },
    {
     "name": "stdout",
     "output_type": "stream",
     "text": [
      "dim_4emb_2.embs\n"
     ]
    },
    {
     "name": "stderr",
     "output_type": "stream",
     "text": [
      "0.212937\n"
     ]
    },
    {
     "name": "stdout",
     "output_type": "stream",
     "text": [
      "dim_4emb_3.embs\n"
     ]
    },
    {
     "name": "stderr",
     "output_type": "stream",
     "text": [
      "0.212431\n"
     ]
    },
    {
     "name": "stdout",
     "output_type": "stream",
     "text": [
      "dim_32emb_0.embs\n"
     ]
    },
    {
     "name": "stderr",
     "output_type": "stream",
     "text": [
      "0.209627\n"
     ]
    },
    {
     "name": "stdout",
     "output_type": "stream",
     "text": [
      "dim_32emb_1.embs\n"
     ]
    },
    {
     "name": "stderr",
     "output_type": "stream",
     "text": [
      "0.207681\n"
     ]
    },
    {
     "name": "stdout",
     "output_type": "stream",
     "text": [
      "dim_32emb_6.embs\n"
     ]
    },
    {
     "name": "stderr",
     "output_type": "stream",
     "text": [
      "0.204692\n"
     ]
    },
    {
     "name": "stdout",
     "output_type": "stream",
     "text": [
      "dim_32emb_7.embs\n"
     ]
    },
    {
     "name": "stderr",
     "output_type": "stream",
     "text": [
      "0.213756\n"
     ]
    },
    {
     "name": "stdout",
     "output_type": "stream",
     "text": [
      "dim_32emb_4.embs\n"
     ]
    },
    {
     "name": "stderr",
     "output_type": "stream",
     "text": [
      "0.210596\n"
     ]
    },
    {
     "name": "stdout",
     "output_type": "stream",
     "text": [
      "dim_32emb_8.embs\n"
     ]
    },
    {
     "name": "stderr",
     "output_type": "stream",
     "text": [
      "0.207528\n"
     ]
    },
    {
     "name": "stdout",
     "output_type": "stream",
     "text": [
      "dim_32emb_9.embs\n"
     ]
    },
    {
     "name": "stderr",
     "output_type": "stream",
     "text": [
      "0.204631\n"
     ]
    },
    {
     "name": "stdout",
     "output_type": "stream",
     "text": [
      "dim_32emb_5.embs\n"
     ]
    },
    {
     "name": "stderr",
     "output_type": "stream",
     "text": [
      "0.207969\n"
     ]
    },
    {
     "name": "stdout",
     "output_type": "stream",
     "text": [
      "dim_32emb_2.embs\n"
     ]
    },
    {
     "name": "stderr",
     "output_type": "stream",
     "text": [
      "0.209782\n"
     ]
    },
    {
     "name": "stdout",
     "output_type": "stream",
     "text": [
      "dim_32emb_3.embs\n"
     ]
    },
    {
     "name": "stderr",
     "output_type": "stream",
     "text": [
      "0.211765\n"
     ]
    },
    {
     "name": "stdout",
     "output_type": "stream",
     "text": [
      "dim_128emb_0.embs\n"
     ]
    },
    {
     "name": "stderr",
     "output_type": "stream",
     "text": [
      "0.206382\n"
     ]
    },
    {
     "name": "stdout",
     "output_type": "stream",
     "text": [
      "dim_128emb_1.embs\n"
     ]
    },
    {
     "name": "stderr",
     "output_type": "stream",
     "text": [
      "0.201581\n"
     ]
    },
    {
     "name": "stdout",
     "output_type": "stream",
     "text": [
      "dim_128emb_6.embs\n"
     ]
    },
    {
     "name": "stderr",
     "output_type": "stream",
     "text": [
      "0.209412\n"
     ]
    },
    {
     "name": "stdout",
     "output_type": "stream",
     "text": [
      "dim_128emb_7.embs\n"
     ]
    },
    {
     "name": "stderr",
     "output_type": "stream",
     "text": [
      "0.209667\n"
     ]
    },
    {
     "name": "stdout",
     "output_type": "stream",
     "text": [
      "dim_128emb_4.embs\n"
     ]
    },
    {
     "name": "stderr",
     "output_type": "stream",
     "text": [
      "0.209641\n"
     ]
    },
    {
     "name": "stdout",
     "output_type": "stream",
     "text": [
      "dim_128emb_8.embs\n"
     ]
    },
    {
     "name": "stderr",
     "output_type": "stream",
     "text": [
      "0.208765\n"
     ]
    },
    {
     "name": "stdout",
     "output_type": "stream",
     "text": [
      "dim_128emb_9.embs\n"
     ]
    },
    {
     "name": "stderr",
     "output_type": "stream",
     "text": [
      "0.211453\n"
     ]
    },
    {
     "name": "stdout",
     "output_type": "stream",
     "text": [
      "dim_128emb_5.embs\n"
     ]
    },
    {
     "name": "stderr",
     "output_type": "stream",
     "text": [
      "0.213725\n"
     ]
    },
    {
     "name": "stdout",
     "output_type": "stream",
     "text": [
      "dim_128emb_2.embs\n"
     ]
    },
    {
     "name": "stderr",
     "output_type": "stream",
     "text": [
      "0.207148\n"
     ]
    },
    {
     "name": "stdout",
     "output_type": "stream",
     "text": [
      "dim_128emb_3.embs\n"
     ]
    },
    {
     "name": "stderr",
     "output_type": "stream",
     "text": [
      "0.209131\n"
     ]
    },
    {
     "name": "stdout",
     "output_type": "stream",
     "text": [
      "dim_8emb_0.embs\n"
     ]
    },
    {
     "name": "stderr",
     "output_type": "stream",
     "text": [
      "0.209591\n"
     ]
    },
    {
     "name": "stdout",
     "output_type": "stream",
     "text": [
      "dim_8emb_1.embs\n"
     ]
    },
    {
     "name": "stderr",
     "output_type": "stream",
     "text": [
      "0.202606\n"
     ]
    },
    {
     "name": "stdout",
     "output_type": "stream",
     "text": [
      "dim_8emb_6.embs\n"
     ]
    },
    {
     "name": "stderr",
     "output_type": "stream",
     "text": [
      "0.213891\n"
     ]
    },
    {
     "name": "stdout",
     "output_type": "stream",
     "text": [
      "dim_8emb_7.embs\n"
     ]
    },
    {
     "name": "stderr",
     "output_type": "stream",
     "text": [
      "0.203422\n"
     ]
    },
    {
     "name": "stdout",
     "output_type": "stream",
     "text": [
      "dim_8emb_4.embs\n"
     ]
    },
    {
     "name": "stderr",
     "output_type": "stream",
     "text": [
      "0.209193\n"
     ]
    },
    {
     "name": "stdout",
     "output_type": "stream",
     "text": [
      "dim_8emb_8.embs\n"
     ]
    },
    {
     "name": "stderr",
     "output_type": "stream",
     "text": [
      "0.198482\n"
     ]
    },
    {
     "name": "stdout",
     "output_type": "stream",
     "text": [
      "dim_8emb_9.embs\n"
     ]
    },
    {
     "name": "stderr",
     "output_type": "stream",
     "text": [
      "0.204994\n"
     ]
    },
    {
     "name": "stdout",
     "output_type": "stream",
     "text": [
      "dim_8emb_5.embs\n"
     ]
    },
    {
     "name": "stderr",
     "output_type": "stream",
     "text": [
      "0.208911\n"
     ]
    },
    {
     "name": "stdout",
     "output_type": "stream",
     "text": [
      "dim_8emb_2.embs\n"
     ]
    },
    {
     "name": "stderr",
     "output_type": "stream",
     "text": [
      "0.206691\n"
     ]
    },
    {
     "name": "stdout",
     "output_type": "stream",
     "text": [
      "dim_8emb_3.embs\n"
     ]
    },
    {
     "name": "stderr",
     "output_type": "stream",
     "text": [
      "0.21368\n"
     ]
    },
    {
     "name": "stdout",
     "output_type": "stream",
     "text": [
      "dim_64emb_0.embs\n"
     ]
    },
    {
     "name": "stderr",
     "output_type": "stream",
     "text": [
      "0.203287\n"
     ]
    },
    {
     "name": "stdout",
     "output_type": "stream",
     "text": [
      "dim_64emb_1.embs\n"
     ]
    },
    {
     "name": "stderr",
     "output_type": "stream",
     "text": [
      "0.204144\n"
     ]
    },
    {
     "name": "stdout",
     "output_type": "stream",
     "text": [
      "dim_64emb_6.embs\n"
     ]
    },
    {
     "name": "stderr",
     "output_type": "stream",
     "text": [
      "0.211467\n"
     ]
    },
    {
     "name": "stdout",
     "output_type": "stream",
     "text": [
      "dim_64emb_7.embs\n"
     ]
    },
    {
     "name": "stderr",
     "output_type": "stream",
     "text": [
      "0.209456\n"
     ]
    },
    {
     "name": "stdout",
     "output_type": "stream",
     "text": [
      "dim_64emb_4.embs\n"
     ]
    },
    {
     "name": "stderr",
     "output_type": "stream",
     "text": [
      "0.202079\n"
     ]
    },
    {
     "name": "stdout",
     "output_type": "stream",
     "text": [
      "dim_64emb_8.embs\n"
     ]
    },
    {
     "name": "stderr",
     "output_type": "stream",
     "text": [
      "0.212381\n"
     ]
    },
    {
     "name": "stdout",
     "output_type": "stream",
     "text": [
      "dim_64emb_9.embs\n"
     ]
    },
    {
     "name": "stderr",
     "output_type": "stream",
     "text": [
      "0.204378\n"
     ]
    },
    {
     "name": "stdout",
     "output_type": "stream",
     "text": [
      "dim_64emb_5.embs\n"
     ]
    },
    {
     "name": "stderr",
     "output_type": "stream",
     "text": [
      "0.210418\n"
     ]
    },
    {
     "name": "stdout",
     "output_type": "stream",
     "text": [
      "dim_64emb_2.embs\n"
     ]
    },
    {
     "name": "stderr",
     "output_type": "stream",
     "text": [
      "0.208969\n"
     ]
    },
    {
     "name": "stdout",
     "output_type": "stream",
     "text": [
      "dim_64emb_3.embs\n"
     ]
    },
    {
     "name": "stderr",
     "output_type": "stream",
     "text": [
      "0.206649\n"
     ]
    },
    {
     "name": "stdout",
     "output_type": "stream",
     "text": [
      "dim_16emb_0.embs\n"
     ]
    },
    {
     "name": "stderr",
     "output_type": "stream",
     "text": [
      "0.644707\n"
     ]
    },
    {
     "name": "stdout",
     "output_type": "stream",
     "text": [
      "dim_16emb_1.embs\n"
     ]
    },
    {
     "name": "stderr",
     "output_type": "stream",
     "text": [
      "0.645092\n"
     ]
    },
    {
     "name": "stdout",
     "output_type": "stream",
     "text": [
      "dim_16emb_6.embs\n"
     ]
    },
    {
     "name": "stderr",
     "output_type": "stream",
     "text": [
      "0.643451\n"
     ]
    },
    {
     "name": "stdout",
     "output_type": "stream",
     "text": [
      "dim_16emb_7.embs\n"
     ]
    },
    {
     "name": "stderr",
     "output_type": "stream",
     "text": [
      "0.64288\n"
     ]
    },
    {
     "name": "stdout",
     "output_type": "stream",
     "text": [
      "dim_16emb_4.embs\n"
     ]
    },
    {
     "name": "stderr",
     "output_type": "stream",
     "text": [
      "0.643852\n"
     ]
    },
    {
     "name": "stdout",
     "output_type": "stream",
     "text": [
      "dim_16emb_8.embs\n"
     ]
    },
    {
     "name": "stderr",
     "output_type": "stream",
     "text": [
      "0.646044\n"
     ]
    },
    {
     "name": "stdout",
     "output_type": "stream",
     "text": [
      "dim_16emb_9.embs\n"
     ]
    },
    {
     "name": "stderr",
     "output_type": "stream",
     "text": [
      "0.64317\n"
     ]
    },
    {
     "name": "stdout",
     "output_type": "stream",
     "text": [
      "dim_16emb_5.embs\n"
     ]
    },
    {
     "name": "stderr",
     "output_type": "stream",
     "text": [
      "0.642666\n"
     ]
    },
    {
     "name": "stdout",
     "output_type": "stream",
     "text": [
      "dim_16emb_2.embs\n"
     ]
    },
    {
     "name": "stderr",
     "output_type": "stream",
     "text": [
      "0.6428\n"
     ]
    },
    {
     "name": "stdout",
     "output_type": "stream",
     "text": [
      "dim_16emb_3.embs\n"
     ]
    },
    {
     "name": "stderr",
     "output_type": "stream",
     "text": [
      "0.645102\n"
     ]
    },
    {
     "name": "stdout",
     "output_type": "stream",
     "text": [
      "dim_4emb_0.embs\n"
     ]
    },
    {
     "name": "stderr",
     "output_type": "stream",
     "text": [
      "0.645652\n"
     ]
    },
    {
     "name": "stdout",
     "output_type": "stream",
     "text": [
      "dim_4emb_1.embs\n"
     ]
    },
    {
     "name": "stderr",
     "output_type": "stream",
     "text": [
      "0.64173\n"
     ]
    },
    {
     "name": "stdout",
     "output_type": "stream",
     "text": [
      "dim_4emb_6.embs\n"
     ]
    },
    {
     "name": "stderr",
     "output_type": "stream",
     "text": [
      "0.64484\n"
     ]
    },
    {
     "name": "stdout",
     "output_type": "stream",
     "text": [
      "dim_4emb_7.embs\n"
     ]
    },
    {
     "name": "stderr",
     "output_type": "stream",
     "text": [
      "0.643885\n"
     ]
    },
    {
     "name": "stdout",
     "output_type": "stream",
     "text": [
      "dim_4emb_4.embs\n"
     ]
    },
    {
     "name": "stderr",
     "output_type": "stream",
     "text": [
      "0.639435\n"
     ]
    },
    {
     "name": "stdout",
     "output_type": "stream",
     "text": [
      "dim_4emb_8.embs\n"
     ]
    },
    {
     "name": "stderr",
     "output_type": "stream",
     "text": [
      "0.642731\n"
     ]
    },
    {
     "name": "stdout",
     "output_type": "stream",
     "text": [
      "dim_4emb_9.embs\n"
     ]
    },
    {
     "name": "stderr",
     "output_type": "stream",
     "text": [
      "0.640953\n"
     ]
    },
    {
     "name": "stdout",
     "output_type": "stream",
     "text": [
      "dim_4emb_5.embs\n"
     ]
    },
    {
     "name": "stderr",
     "output_type": "stream",
     "text": [
      "0.643234\n"
     ]
    },
    {
     "name": "stdout",
     "output_type": "stream",
     "text": [
      "dim_4emb_2.embs\n"
     ]
    },
    {
     "name": "stderr",
     "output_type": "stream",
     "text": [
      "0.642604\n"
     ]
    },
    {
     "name": "stdout",
     "output_type": "stream",
     "text": [
      "dim_4emb_3.embs\n"
     ]
    },
    {
     "name": "stderr",
     "output_type": "stream",
     "text": [
      "0.642052\n"
     ]
    },
    {
     "name": "stdout",
     "output_type": "stream",
     "text": [
      "dim_32emb_0.embs\n"
     ]
    },
    {
     "name": "stderr",
     "output_type": "stream",
     "text": [
      "0.643974\n"
     ]
    },
    {
     "name": "stdout",
     "output_type": "stream",
     "text": [
      "dim_32emb_1.embs\n"
     ]
    },
    {
     "name": "stderr",
     "output_type": "stream",
     "text": [
      "0.643468\n"
     ]
    },
    {
     "name": "stdout",
     "output_type": "stream",
     "text": [
      "dim_32emb_6.embs\n"
     ]
    },
    {
     "name": "stderr",
     "output_type": "stream",
     "text": [
      "0.644332\n"
     ]
    },
    {
     "name": "stdout",
     "output_type": "stream",
     "text": [
      "dim_32emb_7.embs\n"
     ]
    },
    {
     "name": "stderr",
     "output_type": "stream",
     "text": [
      "0.643997\n"
     ]
    },
    {
     "name": "stdout",
     "output_type": "stream",
     "text": [
      "dim_32emb_4.embs\n"
     ]
    },
    {
     "name": "stderr",
     "output_type": "stream",
     "text": [
      "0.641257\n"
     ]
    },
    {
     "name": "stdout",
     "output_type": "stream",
     "text": [
      "dim_32emb_8.embs\n"
     ]
    },
    {
     "name": "stderr",
     "output_type": "stream",
     "text": [
      "0.644212\n"
     ]
    },
    {
     "name": "stdout",
     "output_type": "stream",
     "text": [
      "dim_32emb_9.embs\n"
     ]
    },
    {
     "name": "stderr",
     "output_type": "stream",
     "text": [
      "0.644819\n"
     ]
    },
    {
     "name": "stdout",
     "output_type": "stream",
     "text": [
      "dim_32emb_5.embs\n"
     ]
    },
    {
     "name": "stderr",
     "output_type": "stream",
     "text": [
      "0.641323\n"
     ]
    },
    {
     "name": "stdout",
     "output_type": "stream",
     "text": [
      "dim_32emb_2.embs\n"
     ]
    },
    {
     "name": "stderr",
     "output_type": "stream",
     "text": [
      "0.644468\n"
     ]
    },
    {
     "name": "stdout",
     "output_type": "stream",
     "text": [
      "dim_32emb_3.embs\n"
     ]
    },
    {
     "name": "stderr",
     "output_type": "stream",
     "text": [
      "0.642582\n"
     ]
    },
    {
     "name": "stdout",
     "output_type": "stream",
     "text": [
      "dim_128emb_0.embs\n"
     ]
    },
    {
     "name": "stderr",
     "output_type": "stream",
     "text": [
      "0.644104\n"
     ]
    },
    {
     "name": "stdout",
     "output_type": "stream",
     "text": [
      "dim_128emb_1.embs\n"
     ]
    },
    {
     "name": "stderr",
     "output_type": "stream",
     "text": [
      "0.642568\n"
     ]
    },
    {
     "name": "stdout",
     "output_type": "stream",
     "text": [
      "dim_128emb_6.embs\n"
     ]
    },
    {
     "name": "stderr",
     "output_type": "stream",
     "text": [
      "0.642462\n"
     ]
    },
    {
     "name": "stdout",
     "output_type": "stream",
     "text": [
      "dim_128emb_7.embs\n"
     ]
    },
    {
     "name": "stderr",
     "output_type": "stream",
     "text": [
      "0.644278\n"
     ]
    },
    {
     "name": "stdout",
     "output_type": "stream",
     "text": [
      "dim_128emb_4.embs\n"
     ]
    },
    {
     "name": "stderr",
     "output_type": "stream",
     "text": [
      "0.643247\n"
     ]
    },
    {
     "name": "stdout",
     "output_type": "stream",
     "text": [
      "dim_128emb_8.embs\n"
     ]
    },
    {
     "name": "stderr",
     "output_type": "stream",
     "text": [
      "0.641907\n"
     ]
    },
    {
     "name": "stdout",
     "output_type": "stream",
     "text": [
      "dim_128emb_9.embs\n"
     ]
    },
    {
     "name": "stderr",
     "output_type": "stream",
     "text": [
      "0.643971\n"
     ]
    },
    {
     "name": "stdout",
     "output_type": "stream",
     "text": [
      "dim_128emb_5.embs\n"
     ]
    },
    {
     "name": "stderr",
     "output_type": "stream",
     "text": [
      "0.642535\n"
     ]
    },
    {
     "name": "stdout",
     "output_type": "stream",
     "text": [
      "dim_128emb_2.embs\n"
     ]
    },
    {
     "name": "stderr",
     "output_type": "stream",
     "text": [
      "0.642604\n"
     ]
    },
    {
     "name": "stdout",
     "output_type": "stream",
     "text": [
      "dim_128emb_3.embs\n"
     ]
    },
    {
     "name": "stderr",
     "output_type": "stream",
     "text": [
      "0.642188\n"
     ]
    },
    {
     "name": "stdout",
     "output_type": "stream",
     "text": [
      "dim_8emb_0.embs\n"
     ]
    },
    {
     "name": "stderr",
     "output_type": "stream",
     "text": [
      "0.642078\n"
     ]
    },
    {
     "name": "stdout",
     "output_type": "stream",
     "text": [
      "dim_8emb_1.embs\n"
     ]
    },
    {
     "name": "stderr",
     "output_type": "stream",
     "text": [
      "0.642626\n"
     ]
    },
    {
     "name": "stdout",
     "output_type": "stream",
     "text": [
      "dim_8emb_6.embs\n"
     ]
    },
    {
     "name": "stderr",
     "output_type": "stream",
     "text": [
      "0.642766\n"
     ]
    },
    {
     "name": "stdout",
     "output_type": "stream",
     "text": [
      "dim_8emb_7.embs\n"
     ]
    },
    {
     "name": "stderr",
     "output_type": "stream",
     "text": [
      "0.642814\n"
     ]
    },
    {
     "name": "stdout",
     "output_type": "stream",
     "text": [
      "dim_8emb_4.embs\n"
     ]
    },
    {
     "name": "stderr",
     "output_type": "stream",
     "text": [
      "0.642845\n"
     ]
    },
    {
     "name": "stdout",
     "output_type": "stream",
     "text": [
      "dim_8emb_8.embs\n"
     ]
    },
    {
     "name": "stderr",
     "output_type": "stream",
     "text": [
      "0.643934\n"
     ]
    },
    {
     "name": "stdout",
     "output_type": "stream",
     "text": [
      "dim_8emb_9.embs\n"
     ]
    },
    {
     "name": "stderr",
     "output_type": "stream",
     "text": [
      "0.64488\n"
     ]
    },
    {
     "name": "stdout",
     "output_type": "stream",
     "text": [
      "dim_8emb_5.embs\n"
     ]
    },
    {
     "name": "stderr",
     "output_type": "stream",
     "text": [
      "0.642613\n"
     ]
    },
    {
     "name": "stdout",
     "output_type": "stream",
     "text": [
      "dim_8emb_2.embs\n"
     ]
    },
    {
     "name": "stderr",
     "output_type": "stream",
     "text": [
      "0.641982\n"
     ]
    },
    {
     "name": "stdout",
     "output_type": "stream",
     "text": [
      "dim_8emb_3.embs\n"
     ]
    },
    {
     "name": "stderr",
     "output_type": "stream",
     "text": [
      "0.641866\n"
     ]
    },
    {
     "name": "stdout",
     "output_type": "stream",
     "text": [
      "dim_64emb_0.embs\n"
     ]
    },
    {
     "name": "stderr",
     "output_type": "stream",
     "text": [
      "0.642983\n"
     ]
    },
    {
     "name": "stdout",
     "output_type": "stream",
     "text": [
      "dim_64emb_1.embs\n"
     ]
    },
    {
     "name": "stderr",
     "output_type": "stream",
     "text": [
      "0.642069\n"
     ]
    },
    {
     "name": "stdout",
     "output_type": "stream",
     "text": [
      "dim_64emb_6.embs\n"
     ]
    },
    {
     "name": "stderr",
     "output_type": "stream",
     "text": [
      "0.642448\n"
     ]
    },
    {
     "name": "stdout",
     "output_type": "stream",
     "text": [
      "dim_64emb_7.embs\n"
     ]
    },
    {
     "name": "stderr",
     "output_type": "stream",
     "text": [
      "0.643767\n"
     ]
    },
    {
     "name": "stdout",
     "output_type": "stream",
     "text": [
      "dim_64emb_4.embs\n"
     ]
    },
    {
     "name": "stderr",
     "output_type": "stream",
     "text": [
      "0.646175\n"
     ]
    },
    {
     "name": "stdout",
     "output_type": "stream",
     "text": [
      "dim_64emb_8.embs\n"
     ]
    },
    {
     "name": "stderr",
     "output_type": "stream",
     "text": [
      "0.64319\n"
     ]
    },
    {
     "name": "stdout",
     "output_type": "stream",
     "text": [
      "dim_64emb_9.embs\n"
     ]
    },
    {
     "name": "stderr",
     "output_type": "stream",
     "text": [
      "0.642124\n"
     ]
    },
    {
     "name": "stdout",
     "output_type": "stream",
     "text": [
      "dim_64emb_5.embs\n"
     ]
    },
    {
     "name": "stderr",
     "output_type": "stream",
     "text": [
      "0.642602\n"
     ]
    },
    {
     "name": "stdout",
     "output_type": "stream",
     "text": [
      "dim_64emb_2.embs\n"
     ]
    },
    {
     "name": "stderr",
     "output_type": "stream",
     "text": [
      "0.644758\n"
     ]
    },
    {
     "name": "stdout",
     "output_type": "stream",
     "text": [
      "dim_64emb_3.embs\n"
     ]
    },
    {
     "name": "stderr",
     "output_type": "stream",
     "text": [
      "0.642689\n"
     ]
    }
   ],
   "source": [
    "# compare airports\n",
    "\n",
    "for net in nets:\n",
    "    for file in os.listdir(\"../results/\" + net + \"/\"):\n",
    "        \n",
    "        if file == '.DS_Store': continue\n",
    "        \n",
    "        # if file is not directory, skip\n",
    "        if not os.path.isdir(\"../results/\" + net +\"/\" + file):\n",
    "            continue\n",
    "\n",
    "        for emb_file in os.listdir(\"../results/\" + net + \"/\" + file +\"/\"+emb_folder_name ):\n",
    "            print(file + emb_file)\n",
    "\n",
    "            if emb_file == '.DS_Store': continue\n",
    "\n",
    "\n",
    "            command = [\n",
    "                \"julia\",\n",
    "                \"./CGE_CLI.jl\",\n",
    "                \"-g\",\n",
    "                \"../results/remapped_nets/\" + net +\"_reindexed.csv\",\n",
    "                \"-e\",\n",
    "                os.path.join(\"../results/\"+ net+\"/\" + file +\"/\" + emb_folder_name+ \"/\", emb_file),\n",
    "                \"--result_name\",\n",
    "                \"../results/\" + net +\"/\" + file +\"/\" +results_folder_name +  \"/\" + emb_file + \"_result.csv\",\n",
    "                \"-v\"\n",
    "            ]\n",
    "            output = subprocess.check_output(command, shell=False)"
   ]
  },
  {
   "cell_type": "code",
   "execution_count": 1,
   "metadata": {},
   "outputs": [],
   "source": [
    "import edparser\n",
    "import json"
   ]
  },
  {
   "cell_type": "code",
   "execution_count": 2,
   "metadata": {},
   "outputs": [],
   "source": [
    "settings = {\n",
    "    \"settings\": {\n",
    "        \"benchmark\": True,\n",
    "        \"log_level\": edparser.LogLevel.Info.value\n",
    "    },\n",
    "    \"log\": {\n",
    "        \"events\": {\n",
    "            \"rounds\": True,\n",
    "            \"bomb\": False,\n",
    "            \"grenades\": False,\n",
    "            \"players\": False,\n",
    "            \"players_matchstats\": False,\n",
    "            \"player_connect_disconnect\": False\n",
    "        },\n",
    "        \"convars\": False,\n",
    "        \"saytext\": False,\n",
    "        \"game_events\": False,\n",
    "    }\n",
    "}\n",
    "\n",
    "# create a parser context\n",
    "context = edparser.ParserContext(\n",
    "    # path for the parser library \n",
    "    libparser_path=b'/Users/emanueldopater/Dev/EsportDynamics/analysis/parser/libcsdemparser.dylib',\n",
    "    # logging level for the binder C++ code\n",
    "    binder_loglevel=edparser.LogLevel(2),\n",
    "    # arguments that are given to the parser\n",
    "    args=edparser.ParserArgs(\n",
    "        # demo file path to be parsed\n",
    "        demofile_path=b\"/Users/emanueldopater/Dev/EsportDynamics/analysis/demos/match730_003666797720875565354_1603615052_181.dem\",\n",
    "        # input json file which contains settings, must be a file\n",
    "        json=json.dumps(settings)\n",
    "    )\n",
    ")\n",
    "\n",
    "# try to create the parser instance, if this fails, then some of the arguments provided is invalid\n",
    "try:\n",
    "    parser = edparser.EDParser(context)\n",
    "except Exception as e:\n",
    "    print(e)"
   ]
  },
  {
   "cell_type": "code",
   "execution_count": 3,
   "metadata": {},
   "outputs": [
    {
     "name": "stdout",
     "output_type": "stream",
     "text": [
      "[2024-02-26 10:38:15.858] [parser-binder] info: All arguments are valid. [demofile_path=/Users/emanueldopater/Dev/EsportDynamics/analysis/demos/match730_003666797720875565354_1603615052_181.dem, parser_path=/Users/emanueldopater/Dev/EsportDynamics/analysis/parser/libcsdemparser.dylib]\n",
      "[2024-02-26 10:38:15.864] [parser-binder] info: Parser library loaded successfully, passing the control flow to the parser.\n",
      "[2024-02-26 10:38:15.864] [parser] info: Parsed input JSON as string.\n",
      "[2024-02-26 10:38:15.864] [parser] info: C++ cs2/csgo demo parser v0.0.1\n",
      "[2024-02-26 10:38:15.864] [parser] info: Copyright (c) EsportDynamics 2024\n",
      "[2024-02-26 10:38:15.864] [parser] info: \n",
      "[2024-02-26 10:38:15.864] [parser] info:  arm64, release mode\n",
      "[2024-02-26 10:38:15.864] [parser] info:  Compiled on Feb 23 2024 12:24:21\n",
      "[2024-02-26 10:38:15.864] [parser] info:  Compiled with clang 15.0.0.15000100\n",
      "[2024-02-26 10:38:15.864] [parser] info:  Logging integration: enabled\n",
      "[2024-02-26 10:38:15.864] [parser] info:  Building as shared: yes\n",
      "[2024-02-26 10:38:15.864] [parser] info: \n",
      "[2024-02-26 10:38:15.864] [parser] info: Got input demo file. [path=/Users/emanueldopater/Dev/EsportDynamics/analysis/demos/match730_003666797720875565354_1603615052_181.dem, file_size=152.93 MB]\n",
      "[2024-02-26 10:38:15.864] [parser] info: Initialized argument parser.\n",
      "[2024-02-26 10:38:15.865] [parser] info: Parsing cs2 demo.\n",
      "[2024-02-26 10:38:15.934] [parser] info: Opened and read the demo file. [path=/Users/emanueldopater/Dev/EsportDynamics/analysis/demos/match730_003666797720875565354_1603615052_181.dem]\n",
      "[2024-02-26 10:38:15.934] [parser] info: Processed CDemoFileHeader. [server_name=Valve Counter-Strike 2 eu_north Server (srcds1007-sto1.181.229), level_name=de_dust2, build_number=9961, network_protocol=1.39.9.0, fullpackets_version=2, demo_version=valve_demo_2, demo_version_guid=8e9d71ab-04a1-4c01-bb61-acfede27c046]\n",
      "[2024-02-26 10:38:15.935] [parser] info: Processed CDemoFileInfo. [playback_ticks=147702, playback_frames=147684, playback_time=2307.8438, computed_tickrate=64.00]\n",
      "[2024-02-26 10:38:15.935] [parser] info: Received 22 round start ticks. [0: 6953, 1: 10818, 2: 18115, 3: 24891, 4: 38048, 5: 43191, 6: 49833, 7: 56356, 8: 61946, 9: 65589, 10: 70775, 11: 80951, 12: 89978, 13: 95876, 14: 99634, 15: 110017, 16: 118785, 17: 123955, 18: 133284, 19: 140138, 20: 145083, 21: 150118]\n",
      "[2024-02-26 10:38:15.935] [parser] info: Log file directory established. [path=/Users/emanueldopater/DepDistContraction/DepDistContractionParallel/DepDistContraction/comparing_embs/logs/1.39.9.0/match730_003666797720875565354_1603615052_181/]\n",
      "[2024-02-26 10:38:15.935] [parser] info: Logs registered.\n",
      "[2024-02-26 10:38:15.935] [parser] info: Processing demo ticks.\n",
      "[2024-02-26 10:38:15.937] [parser] info: Parsed svc_ServerInfo. [tick=-1, tickrate=64, os=l, gamemode=competitive, gamedir=/opt/srcds/cs2/csgo_v2000247/csgo, hostname=Valve Counter-Strike 2 eu_north Server (srcds1007-sto1.181.229)]\n",
      "[2024-02-26 10:38:15.938] [parser] info: Processed sendtables. [serializers=264, fields=1531, symbols=1862, total_size=97.30 KB]\n",
      "[2024-02-26 10:38:15.938] [parser] info: Collected list of all networkable classes. [num_classes=211]\n",
      "[2024-02-26 10:38:15.938] [parser] info: Got server class bit count. [num_bits=8]\n",
      "[2024-02-26 10:38:15.948] [parser] info: Built all flattened serializers and fields. [num_serializers=264, num_fields=17095, time=0.00995425s].\n",
      "[2024-02-26 10:38:15.948] [parser] info: Inconsistent amount of serializers and networkable classes (it's normal behaviour). [serializers=264, networkable_classes=211]\n",
      "[2024-02-26 10:38:15.949] [parser] info: Collected 277 game events.\n",
      "[2024-02-26 10:38:15.949] [parser] info: DEM_SyncTick fired, tick numbers should be valid from now on.\n",
      "[2024-02-26 10:38:15.987] [parser] info: Round started. [round_num=0, tick=67]\n",
      "[2024-02-26 10:38:15.987] [parser] info: New match started. [tick=67, round_num=0]\n",
      "[2024-02-26 10:38:15.987] [parser] info: First post-tick in a round. [tick=67, round_num=0]\n",
      "[2024-02-26 10:38:16.029] [parser] info: Freeze time end. [tick=1441, round_num=0, length=21s 468ms]\n",
      "[2024-02-26 10:38:16.103] [parser] info: Buy time end. [tick=2722, round_num=0, length=41s 484ms]\n",
      "[2024-02-26 10:38:16.130] [parser] info: Someone MVPed this round. [name=DwinzieWinzie, sid=76561199580965630, reason=CSMVP_ELIMINATION, tick=3482, round_num=0]\n",
      "[2024-02-26 10:38:16.130] [parser] info: Round ended. [tick=3482, round_num=0, reason=CTs_Win, winner_team=WINNER_CT]\n",
      "[2024-02-26 10:38:16.149] [parser] info: Round officially ended. [num=0, tick=3930, length=1m 0s, end_reason=CTs_Win, winner_team=WINNER_CT, CT/T survivors=3/0 CT/T score=1/0]\n",
      "[2024-02-26 10:38:16.149] [parser] info: round_prestart fired. [tick=3930, round_num=0]\n",
      "[2024-02-26 10:38:16.149] [parser] info: Round started. [round_num=1, tick=3930]\n",
      "[2024-02-26 10:38:16.149] [parser] info: round_poststart fired. [tick=3930, round_num=1]\n",
      "[2024-02-26 10:38:16.152] [parser] info: First post-tick in a round. [tick=3930, round_num=1]\n",
      "[2024-02-26 10:38:16.168] [parser] info: Freeze time end. [tick=4890, round_num=1, length=15s 0ms]\n",
      "[2024-02-26 10:38:16.218] [parser] info: Buy time end. [tick=6171, round_num=1, length=35s 15ms]\n",
      "[2024-02-26 10:38:16.348] [parser] info: Someone MVPed this round. [name=I.V., sid=76561199609208956, reason=CSMVP_BOMBDEFUSE, tick=10779, round_num=1]\n",
      "[2024-02-26 10:38:16.348] [parser] info: Round ended. [tick=10779, round_num=1, reason=Bomb_Defused, winner_team=WINNER_CT]\n",
      "[2024-02-26 10:38:16.354] [parser] info: Round officially ended. [num=1, tick=11227, length=1m 54s, end_reason=Bomb_Defused, winner_team=WINNER_CT, CT/T survivors=1/0 CT/T score=2/0]\n",
      "[2024-02-26 10:38:16.354] [parser] info: round_prestart fired. [tick=11227, round_num=1]\n",
      "[2024-02-26 10:38:16.354] [parser] info: Round started. [round_num=2, tick=11227]\n",
      "[2024-02-26 10:38:16.354] [parser] info: round_poststart fired. [tick=11227, round_num=2]\n",
      "[2024-02-26 10:38:16.357] [parser] info: First post-tick in a round. [tick=11227, round_num=2]\n",
      "[2024-02-26 10:38:16.387] [parser] info: Freeze time end. [tick=12187, round_num=2, length=15s 0ms]\n",
      "[2024-02-26 10:38:16.451] [parser] info: Buy time end. [tick=13468, round_num=2, length=35s 15ms]\n",
      "[2024-02-26 10:38:16.576] [parser] info: Someone MVPed this round. [name=I.V., sid=76561199609208956, reason=CSMVP_ELIMINATION, tick=17555, round_num=2]\n",
      "[2024-02-26 10:38:16.577] [parser] info: Round ended. [tick=17555, round_num=2, reason=CTs_Win, winner_team=WINNER_CT]\n",
      "[2024-02-26 10:38:16.584] [parser] info: Round officially ended. [num=2, tick=18003, length=1m 45s, end_reason=CTs_Win, winner_team=WINNER_CT, CT/T survivors=1/0 CT/T score=3/0]\n",
      "[2024-02-26 10:38:16.584] [parser] info: round_prestart fired. [tick=18003, round_num=2]\n",
      "[2024-02-26 10:38:16.584] [parser] info: Round started. [round_num=3, tick=18003]\n",
      "[2024-02-26 10:38:16.584] [parser] info: round_poststart fired. [tick=18003, round_num=3]\n",
      "[2024-02-26 10:38:16.588] [parser] info: First post-tick in a round. [tick=18003, round_num=3]\n",
      "[2024-02-26 10:38:16.740] [parser] info: Freeze time end. [tick=26643, round_num=3, length=2m 15s 0ms]\n",
      "[2024-02-26 10:38:16.805] [parser] info: Buy time end. [tick=27924, round_num=3, length=2m 35s 15ms]\n",
      "[2024-02-26 10:38:16.891] [parser] info: Someone MVPed this round. [name=shyruuk_98, sid=76561199579462685, reason=CSMVP_ELIMINATION, tick=30712, round_num=3]\n",
      "[2024-02-26 10:38:16.891] [parser] info: Round ended. [tick=30712, round_num=3, reason=CTs_Win, winner_team=WINNER_CT]\n",
      "[2024-02-26 10:38:16.913] [parser] info: Round officially ended. [num=3, tick=31160, length=3m 25s, end_reason=CTs_Win, winner_team=WINNER_CT, CT/T survivors=4/0 CT/T score=4/0]\n",
      "[2024-02-26 10:38:16.913] [parser] info: round_prestart fired. [tick=31160, round_num=3]\n",
      "[2024-02-26 10:38:16.913] [parser] info: Round started. [round_num=4, tick=31160]\n",
      "[2024-02-26 10:38:16.913] [parser] info: round_poststart fired. [tick=31160, round_num=4]\n",
      "[2024-02-26 10:38:16.916] [parser] info: First post-tick in a round. [tick=31160, round_num=4]\n",
      "[2024-02-26 10:38:16.931] [parser] info: Freeze time end. [tick=32120, round_num=4, length=15s 0ms]\n",
      "[2024-02-26 10:38:16.984] [parser] info: Buy time end. [tick=33401, round_num=4, length=35s 15ms]\n",
      "[2024-02-26 10:38:17.080] [parser] info: Someone MVPed this round. [name=Seminidas, sid=76561199245542035, reason=CSMVP_ELIMINATION, tick=35855, round_num=4]\n",
      "[2024-02-26 10:38:17.080] [parser] info: Round ended. [tick=35855, round_num=4, reason=Terrorists_Win, winner_team=WINNER_TER]\n",
      "[2024-02-26 10:38:17.092] [parser] info: Round officially ended. [num=4, tick=36303, length=1m 20s, end_reason=Terrorists_Win, winner_team=WINNER_TER, CT/T survivors=0/5 CT/T score=4/1]\n",
      "[2024-02-26 10:38:17.092] [parser] info: round_prestart fired. [tick=36303, round_num=4]\n",
      "[2024-02-26 10:38:17.092] [parser] info: Round started. [round_num=5, tick=36303]\n",
      "[2024-02-26 10:38:17.092] [parser] info: round_poststart fired. [tick=36303, round_num=5]\n",
      "[2024-02-26 10:38:17.094] [parser] info: First post-tick in a round. [tick=36303, round_num=5]\n",
      "[2024-02-26 10:38:17.112] [parser] info: Freeze time end. [tick=37263, round_num=5, length=15s 0ms]\n",
      "[2024-02-26 10:38:17.174] [parser] info: Buy time end. [tick=38544, round_num=5, length=35s 15ms]\n",
      "[2024-02-26 10:38:17.311] [parser] info: Someone MVPed this round. [name=chavez, sid=76561198160619837, reason=CSMVP_BOMBPLANT, tick=42497, round_num=5]\n",
      "[2024-02-26 10:38:17.311] [parser] info: Round ended. [tick=42497, round_num=5, reason=Target_Bombed, winner_team=WINNER_TER]\n",
      "[2024-02-26 10:38:17.322] [parser] info: Round officially ended. [num=5, tick=42945, length=1m 43s, end_reason=Target_Bombed, winner_team=WINNER_TER, CT/T survivors=3/3 CT/T score=4/2]\n",
      "[2024-02-26 10:38:17.322] [parser] info: round_prestart fired. [tick=42945, round_num=5]\n",
      "[2024-02-26 10:38:17.322] [parser] info: Round started. [round_num=6, tick=42945]\n",
      "[2024-02-26 10:38:17.322] [parser] info: round_poststart fired. [tick=42945, round_num=6]\n",
      "[2024-02-26 10:38:17.325] [parser] info: First post-tick in a round. [tick=42945, round_num=6]\n",
      "[2024-02-26 10:38:17.343] [parser] info: Freeze time end. [tick=43905, round_num=6, length=15s 0ms]\n",
      "[2024-02-26 10:38:17.398] [parser] info: Buy time end. [tick=45186, round_num=6, length=35s 15ms]\n",
      "[2024-02-26 10:38:17.504] [parser] info: Someone MVPed this round. [name=ONEEEE, sid=76561199570503009, reason=CSMVP_BOMBDEFUSE, tick=49020, round_num=6]\n",
      "[2024-02-26 10:38:17.504] [parser] info: Round ended. [tick=49020, round_num=6, reason=Bomb_Defused, winner_team=WINNER_CT]\n",
      "[2024-02-26 10:38:17.511] [parser] info: Round officially ended. [num=6, tick=49468, length=1m 41s, end_reason=Bomb_Defused, winner_team=WINNER_CT, CT/T survivors=2/0 CT/T score=5/2]\n",
      "[2024-02-26 10:38:17.511] [parser] info: round_prestart fired. [tick=49468, round_num=6]\n",
      "[2024-02-26 10:38:17.511] [parser] info: Round started. [round_num=7, tick=49468]\n",
      "[2024-02-26 10:38:17.511] [parser] info: round_poststart fired. [tick=49468, round_num=7]\n",
      "[2024-02-26 10:38:17.514] [parser] info: First post-tick in a round. [tick=49468, round_num=7]\n",
      "[2024-02-26 10:38:17.540] [parser] info: Freeze time end. [tick=50428, round_num=7, length=15s 0ms]\n",
      "[2024-02-26 10:38:17.591] [parser] info: Buy time end. [tick=51709, round_num=7, length=35s 15ms]\n",
      "[2024-02-26 10:38:17.704] [parser] info: Someone MVPed this round. [name=BDOXHN, sid=76561199474191383, reason=CSMVP_ELIMINATION, tick=54610, round_num=7]\n",
      "[2024-02-26 10:38:17.704] [parser] info: Round ended. [tick=54610, round_num=7, reason=Terrorists_Win, winner_team=WINNER_TER]\n",
      "[2024-02-26 10:38:17.714] [parser] info: Round officially ended. [num=7, tick=55058, length=1m 27s, end_reason=Terrorists_Win, winner_team=WINNER_TER, CT/T survivors=0/3 CT/T score=5/3]\n",
      "[2024-02-26 10:38:17.714] [parser] info: round_prestart fired. [tick=55058, round_num=7]\n",
      "[2024-02-26 10:38:17.714] [parser] info: Round started. [round_num=8, tick=55058]\n",
      "[2024-02-26 10:38:17.715] [parser] info: round_poststart fired. [tick=55058, round_num=8]\n",
      "[2024-02-26 10:38:17.717] [parser] info: First post-tick in a round. [tick=55058, round_num=8]\n",
      "[2024-02-26 10:38:17.732] [parser] info: Freeze time end. [tick=56018, round_num=8, length=15s 0ms]\n",
      "[2024-02-26 10:38:17.790] [parser] info: Buy time end. [tick=57299, round_num=8, length=35s 15ms]\n",
      "[2024-02-26 10:38:17.835] [parser] info: Someone MVPed this round. [name=BDOXHN, sid=76561199474191383, reason=CSMVP_ELIMINATION, tick=58253, round_num=8]\n",
      "[2024-02-26 10:38:17.835] [parser] info: Round ended. [tick=58253, round_num=8, reason=Terrorists_Win, winner_team=WINNER_TER]\n",
      "[2024-02-26 10:38:17.845] [parser] info: Round officially ended. [num=8, tick=58701, length=56s, end_reason=Terrorists_Win, winner_team=WINNER_TER, CT/T survivors=0/4 CT/T score=5/4]\n",
      "[2024-02-26 10:38:17.845] [parser] info: round_prestart fired. [tick=58701, round_num=8]\n",
      "[2024-02-26 10:38:17.845] [parser] info: Round started. [round_num=9, tick=58701]\n",
      "[2024-02-26 10:38:17.845] [parser] info: round_poststart fired. [tick=58701, round_num=9]\n",
      "[2024-02-26 10:38:17.847] [parser] info: First post-tick in a round. [tick=58701, round_num=9]\n",
      "[2024-02-26 10:38:17.863] [parser] info: Freeze time end. [tick=59661, round_num=9, length=15s 0ms]\n",
      "[2024-02-26 10:38:17.918] [parser] info: Buy time end. [tick=60942, round_num=9, length=35s 15ms]\n",
      "[2024-02-26 10:38:18.011] [parser] info: Someone MVPed this round. [name=СУМАШЕДШАЯ, sid=76561199514074458, reason=CSMVP_ELIMINATION, tick=63439, round_num=9]\n",
      "[2024-02-26 10:38:18.011] [parser] info: Round ended. [tick=63439, round_num=9, reason=Terrorists_Win, winner_team=WINNER_TER]\n",
      "[2024-02-26 10:38:18.021] [parser] info: Round officially ended. [num=9, tick=63887, length=1m 21s, end_reason=Terrorists_Win, winner_team=WINNER_TER, CT/T survivors=0/2 CT/T score=5/5]\n",
      "[2024-02-26 10:38:18.021] [parser] info: round_prestart fired. [tick=63887, round_num=9]\n",
      "[2024-02-26 10:38:18.021] [parser] info: Round started. [round_num=10, tick=63887]\n",
      "[2024-02-26 10:38:18.021] [parser] info: round_poststart fired. [tick=63887, round_num=10]\n",
      "[2024-02-26 10:38:18.023] [parser] info: First post-tick in a round. [tick=63887, round_num=10]\n",
      "[2024-02-26 10:38:18.073] [parser] warning: Player velocity too high, forcing to 0. [player_name=rastaman, player_sid=76561199554136694, delta_sqrt=322.7341, last_position=[-980.000, -754.000, 120.181], current_position=[-657.271, -755.880, 120.220], velocity=[20654.633, 120.297, 2.461], vector_velocity_2d=20654.982, tick=67182]\n",
      "[2024-02-26 10:38:18.073] [parser] warning: Player velocity too high, forcing to 0. [player_name=chavez, player_sid=76561198160619837, delta_sqrt=322.7341, last_position=[-980.000, -754.000, 120.181], current_position=[-657.271, -755.880, 120.220], velocity=[20654.633, 120.297, 2.461], vector_velocity_2d=20654.982, tick=67182]\n",
      "[2024-02-26 10:38:18.130] [parser] warning: Player velocity too high, forcing to 0. [player_name=chavez, player_sid=76561198160619837, delta_sqrt=523.73224, last_position=[-657.271, -755.880, 119.884], current_position=[-1181.000, -754.000, 120.381], velocity=[33518.633, 120.297, 31.824], vector_velocity_2d=33518.848, tick=70669]\n",
      "[2024-02-26 10:38:18.145] [parser] info: Freeze time end. [tick=71629, round_num=10, length=2m 0s 968ms]\n",
      "[2024-02-26 10:38:18.200] [parser] info: Buy time end. [tick=72910, round_num=10, length=2m 20s 984ms]\n",
      "[2024-02-26 10:38:18.236] [parser] info: Someone MVPed this round. [name=BDOXHN, sid=76561199474191383, reason=CSMVP_ELIMINATION, tick=73615, round_num=10]\n",
      "[2024-02-26 10:38:18.236] [parser] info: Round ended. [tick=73615, round_num=10, reason=Terrorists_Win, winner_team=WINNER_TER]\n",
      "[2024-02-26 10:38:18.247] [parser] info: Round officially ended. [num=10, tick=74063, length=2m 39s, end_reason=Terrorists_Win, winner_team=WINNER_TER, CT/T survivors=0/4 CT/T score=5/6]\n",
      "[2024-02-26 10:38:18.247] [parser] info: round_prestart fired. [tick=74063, round_num=10]\n",
      "[2024-02-26 10:38:18.247] [parser] info: Round started. [round_num=11, tick=74063]\n",
      "[2024-02-26 10:38:18.247] [parser] info: Last round half fired. [tick=74063, round_num=11]\n",
      "[2024-02-26 10:38:18.247] [parser] info: round_poststart fired. [tick=74063, round_num=11]\n",
      "[2024-02-26 10:38:18.250] [parser] info: First post-tick in a round. [tick=74063, round_num=11]\n",
      "[2024-02-26 10:38:18.267] [parser] info: Freeze time end. [tick=75023, round_num=11, length=15s 0ms]\n",
      "[2024-02-26 10:38:18.330] [parser] info: Buy time end. [tick=76304, round_num=11, length=35s 15ms]\n",
      "[2024-02-26 10:38:18.489] [parser] info: Someone MVPed this round. [name=rastaman, sid=76561199554136694, reason=CSMVP_BOMBPLANT, tick=82546, round_num=11]\n",
      "[2024-02-26 10:38:18.489] [parser] info: Round ended. [tick=82546, round_num=11, reason=Target_Bombed, winner_team=WINNER_TER]\n",
      "[2024-02-26 10:38:18.499] [parser] info: Round officially ended. [num=11, tick=83090, length=2m 21s, end_reason=Target_Bombed, winner_team=WINNER_TER, CT/T survivors=1/1 CT/T score=5/7]\n",
      "[2024-02-26 10:38:18.499] [parser] info: round_prestart fired. [tick=83090, round_num=11]\n",
      "[2024-02-26 10:38:18.499] [parser] info: Switching teams. [tick=83090, round_num=12]\n",
      "[2024-02-26 10:38:18.499] [parser] info: Round started. [round_num=12, tick=83090]\n",
      "[2024-02-26 10:38:18.499] [parser] info: round_poststart fired. [tick=83090, round_num=12]\n",
      "[2024-02-26 10:38:18.503] [parser] info: First post-tick in a round. [tick=83090, round_num=12]\n",
      "[2024-02-26 10:38:18.521] [parser] info: Freeze time end. [tick=84466, round_num=12, length=21s 500ms]\n",
      "[2024-02-26 10:38:18.591] [parser] info: Buy time end. [tick=85747, round_num=12, length=41s 515ms]\n",
      "[2024-02-26 10:38:18.694] [parser] info: Someone MVPed this round. [name=rastaman, sid=76561199554136694, reason=CSMVP_BOMBDEFUSE, tick=88540, round_num=12]\n",
      "[2024-02-26 10:38:18.694] [parser] info: Round ended. [tick=88540, round_num=12, reason=Bomb_Defused, winner_team=WINNER_CT]\n",
      "[2024-02-26 10:38:18.702] [parser] info: Round officially ended. [num=12, tick=88988, length=1m 32s, end_reason=Bomb_Defused, winner_team=WINNER_CT, CT/T survivors=3/0 CT/T score=8/5]\n",
      "[2024-02-26 10:38:18.702] [parser] info: round_prestart fired. [tick=88988, round_num=12]\n",
      "[2024-02-26 10:38:18.702] [parser] info: Round started. [round_num=13, tick=88988]\n",
      "[2024-02-26 10:38:18.702] [parser] info: round_poststart fired. [tick=88988, round_num=13]\n",
      "[2024-02-26 10:38:18.705] [parser] info: First post-tick in a round. [tick=88988, round_num=13]\n",
      "[2024-02-26 10:38:18.720] [parser] info: Freeze time end. [tick=89948, round_num=13, length=15s 0ms]\n",
      "[2024-02-26 10:38:18.777] [parser] info: Buy time end. [tick=91229, round_num=13, length=35s 15ms]\n",
      "[2024-02-26 10:38:18.824] [parser] info: Someone MVPed this round. [name=СУМАШЕДШАЯ, sid=76561199514074458, reason=CSMVP_ELIMINATION, tick=92298, round_num=13]\n",
      "[2024-02-26 10:38:18.824] [parser] info: Round ended. [tick=92298, round_num=13, reason=CTs_Win, winner_team=WINNER_CT]\n",
      "[2024-02-26 10:38:18.837] [parser] info: Round officially ended. [num=13, tick=92746, length=58s, end_reason=CTs_Win, winner_team=WINNER_CT, CT/T survivors=4/0 CT/T score=9/5]\n",
      "[2024-02-26 10:38:18.837] [parser] info: round_prestart fired. [tick=92746, round_num=13]\n",
      "[2024-02-26 10:38:18.837] [parser] info: Round started. [round_num=14, tick=92746]\n",
      "[2024-02-26 10:38:18.837] [parser] info: round_poststart fired. [tick=92746, round_num=14]\n",
      "[2024-02-26 10:38:18.839] [parser] info: First post-tick in a round. [tick=92746, round_num=14]\n",
      "[2024-02-26 10:38:18.856] [parser] info: Freeze time end. [tick=93706, round_num=14, length=15s 0ms]\n",
      "[2024-02-26 10:38:18.916] [parser] info: Buy time end. [tick=94987, round_num=14, length=35s 15ms]\n",
      "[2024-02-26 10:38:19.089] [parser] info: Someone MVPed this round. [name=I.V., sid=76561199609208956, reason=CSMVP_ACEROUND, tick=102681, round_num=14]\n",
      "[2024-02-26 10:38:19.089] [parser] info: Round ended. [tick=102681, round_num=14, reason=Terrorists_Win, winner_team=WINNER_TER]\n",
      "[2024-02-26 10:38:19.095] [parser] info: Round officially ended. [num=14, tick=103129, length=2m 42s, end_reason=Terrorists_Win, winner_team=WINNER_TER, CT/T survivors=0/2 CT/T score=9/6]\n",
      "[2024-02-26 10:38:19.095] [parser] info: round_prestart fired. [tick=103129, round_num=14]\n",
      "[2024-02-26 10:38:19.095] [parser] info: Round started. [round_num=15, tick=103129]\n",
      "[2024-02-26 10:38:19.095] [parser] info: round_poststart fired. [tick=103129, round_num=15]\n",
      "[2024-02-26 10:38:19.098] [parser] info: First post-tick in a round. [tick=103129, round_num=15]\n",
      "[2024-02-26 10:38:19.126] [parser] info: Freeze time end. [tick=104089, round_num=15, length=15s 0ms]\n",
      "[2024-02-26 10:38:19.205] [parser] info: Buy time end. [tick=105370, round_num=15, length=35s 15ms]\n",
      "[2024-02-26 10:38:19.418] [parser] info: Someone MVPed this round. [name=BDOXHN, sid=76561199474191383, reason=CSMVP_ELIMINATION, tick=111449, round_num=15]\n",
      "[2024-02-26 10:38:19.418] [parser] info: Round ended. [tick=111449, round_num=15, reason=Target_Saved, winner_team=WINNER_CT]\n",
      "[2024-02-26 10:38:19.428] [parser] info: Round officially ended. [num=15, tick=111897, length=2m 17s, end_reason=Target_Saved, winner_team=WINNER_CT, CT/T survivors=2/3 CT/T score=10/6]\n",
      "[2024-02-26 10:38:19.428] [parser] info: round_prestart fired. [tick=111897, round_num=15]\n",
      "[2024-02-26 10:38:19.428] [parser] info: Round started. [round_num=16, tick=111897]\n",
      "[2024-02-26 10:38:19.428] [parser] info: round_poststart fired. [tick=111897, round_num=16]\n",
      "[2024-02-26 10:38:19.431] [parser] info: First post-tick in a round. [tick=111897, round_num=16]\n",
      "[2024-02-26 10:38:19.447] [parser] info: Freeze time end. [tick=112857, round_num=16, length=15s 0ms]\n",
      "[2024-02-26 10:38:19.509] [parser] info: Buy time end. [tick=114138, round_num=16, length=35s 15ms]\n",
      "[2024-02-26 10:38:19.601] [parser] info: Someone MVPed this round. [name=chavez, sid=76561198160619837, reason=CSMVP_ELIMINATION, tick=116619, round_num=16]\n",
      "[2024-02-26 10:38:19.601] [parser] info: Round ended. [tick=116619, round_num=16, reason=CTs_Win, winner_team=WINNER_CT]\n",
      "[2024-02-26 10:38:19.613] [parser] info: Round officially ended. [num=16, tick=117067, length=1m 20s, end_reason=CTs_Win, winner_team=WINNER_CT, CT/T survivors=4/0 CT/T score=11/6]\n",
      "[2024-02-26 10:38:19.613] [parser] info: round_prestart fired. [tick=117067, round_num=16]\n",
      "[2024-02-26 10:38:19.613] [parser] info: Round started. [round_num=17, tick=117067]\n",
      "[2024-02-26 10:38:19.613] [parser] info: round_poststart fired. [tick=117067, round_num=17]\n",
      "[2024-02-26 10:38:19.616] [parser] info: First post-tick in a round. [tick=117067, round_num=17]\n",
      "[2024-02-26 10:38:19.635] [parser] info: Freeze time end. [tick=118027, round_num=17, length=15s 0ms]\n",
      "[2024-02-26 10:38:19.699] [parser] info: Buy time end. [tick=119308, round_num=17, length=35s 15ms]\n",
      "[2024-02-26 10:38:19.861] [parser] info: Someone MVPed this round. [name=I.V., sid=76561199609208956, reason=CSMVP_ELIMINATION, tick=125948, round_num=17]\n",
      "[2024-02-26 10:38:19.861] [parser] info: Round ended. [tick=125948, round_num=17, reason=Terrorists_Win, winner_team=WINNER_TER]\n",
      "[2024-02-26 10:38:19.868] [parser] info: Round officially ended. [num=17, tick=126396, length=2m 25s, end_reason=Terrorists_Win, winner_team=WINNER_TER, CT/T survivors=0/2 CT/T score=11/7]\n",
      "[2024-02-26 10:38:19.868] [parser] in"
     ]
    }
   ],
   "source": [
    "# now try to parse the demo\n",
    "# this method should not throw any exception\n",
    "result = 1\n",
    "try:\n",
    "    result = parser.begin()\n",
    "except:\n",
    "    print()\n",
    "\n",
    "if result != 0:\n",
    "    print(f\"Failed to parse demo, result: {result}\")"
   ]
  },
  {
   "cell_type": "code",
   "execution_count": null,
   "metadata": {},
   "outputs": [],
   "source": []
  },
  {
   "cell_type": "code",
   "execution_count": null,
   "metadata": {},
   "outputs": [],
   "source": []
  },
  {
   "cell_type": "code",
   "execution_count": 4,
   "metadata": {},
   "outputs": [
    {
     "name": "stdout",
     "output_type": "stream",
     "text": [
      "fo: round_prestart fired. [tick=126396, round_num=17]\n",
      "[2024-02-26 10:38:19.868] [parser] info: Round started. [round_num=18, tick=126396]\n",
      "[2024-02-26 10:38:19.868] [parser] info: round_poststart fired. [tick=126396, round_num=18]\n",
      "[2024-02-26 10:38:19.871] [parser] info: First post-tick in a round. [tick=126396, round_num=18]\n",
      "[2024-02-26 10:38:19.898] [parser] info: Freeze time end. [tick=127356, round_num=18, length=15s 0ms]\n",
      "[2024-02-26 10:38:19.958] [parser] info: Buy time end. [tick=128637, round_num=18, length=35s 15ms]\n",
      "[2024-02-26 10:38:20.087] [parser] info: Someone MVPed this round. [name=ONEEEE, sid=76561199570503009, reason=CSMVP_BOMBPLANT, tick=132802, round_num=18]\n",
      "[2024-02-26 10:38:20.087] [parser] info: Round ended. [tick=132802, round_num=18, reason=Target_Bombed, winner_team=WINNER_TER]\n",
      "[2024-02-26 10:38:20.093] [parser] info: Round officially ended. [num=18, tick=133250, length=1m 47s, end_reason=Target_Bombed, winner_team=WINNER_TER, CT/T survivors=0/0 CT/T score=11/8]\n",
      "[2024-02-26 10:38:20.093] [parser] info: round_prestart fired. [tick=133250, round_num=18]\n",
      "[2024-02-26 10:38:20.093] [parser] info: Round started. [round_num=19, tick=133250]\n",
      "[2024-02-26 10:38:20.093] [parser] info: round_poststart fired. [tick=133250, round_num=19]\n",
      "[2024-02-26 10:38:20.096] [parser] info: First post-tick in a round. [tick=133250, round_num=19]\n",
      "[2024-02-26 10:38:20.113] [parser] info: Freeze time end. [tick=134210, round_num=19, length=15s 0ms]\n",
      "[2024-02-26 10:38:20.184] [parser] info: Buy time end. [tick=135491, round_num=19, length=35s 15ms]\n",
      "[2024-02-26 10:38:20.259] [parser] info: Someone MVPed this round. [name=chavez, sid=76561198160619837, reason=CSMVP_ELIMINATION, tick=137747, round_num=19]\n",
      "[2024-02-26 10:38:20.259] [parser] info: Round ended. [tick=137747, round_num=19, reason=CTs_Win, winner_team=WINNER_CT]\n",
      "[2024-02-26 10:38:20.270] [parser] info: Round officially ended. [num=19, tick=138195, length=1m 17s, end_reason=CTs_Win, winner_team=WINNER_CT, CT/T survivors=3/0 CT/T score=12/8]\n",
      "[2024-02-26 10:38:20.270] [parser] info: round_prestart fired. [tick=138195, round_num=19]\n",
      "[2024-02-26 10:38:20.270] [parser] info: Round started. [round_num=20, tick=138195]\n",
      "[2024-02-26 10:38:20.270] [parser] info: round_poststart fired. [tick=138195, round_num=20]\n",
      "[2024-02-26 10:38:20.273] [parser] info: First post-tick in a round. [tick=138195, round_num=20]\n",
      "[2024-02-26 10:38:20.300] [parser] info: Freeze time end. [tick=139155, round_num=20, length=15s 0ms]\n",
      "[2024-02-26 10:38:20.360] [parser] info: Buy time end. [tick=140436, round_num=20, length=35s 15ms]\n",
      "[2024-02-26 10:38:20.436] [parser] info: Someone MVPed this round. [name=I.V., sid=76561199609208956, reason=CSMVP_ACEROUND, tick=142782, round_num=20]\n",
      "[2024-02-26 10:38:20.436] [parser] info: Round ended. [tick=142782, round_num=20, reason=Terrorists_Win, winner_team=WINNER_TER]\n",
      "[2024-02-26 10:38:20.442] [parser] info: Round officially ended. [num=20, tick=143230, length=1m 18s, end_reason=Terrorists_Win, winner_team=WINNER_TER, CT/T survivors=0/2 CT/T score=12/9]\n",
      "[2024-02-26 10:38:20.442] [parser] info: round_prestart fired. [tick=143230, round_num=20]\n",
      "[2024-02-26 10:38:20.442] [parser] info: Round started. [round_num=21, tick=143230]\n",
      "[2024-02-26 10:38:20.442] [parser] info: round_poststart fired. [tick=143230, round_num=21]\n",
      "[2024-02-26 10:38:20.445] [parser] info: First post-tick in a round. [tick=143230, round_num=21]\n",
      "[2024-02-26 10:38:20.461] [parser] info: Freeze time end. [tick=144190, round_num=21, length=15s 0ms]\n",
      "[2024-02-26 10:38:20.525] [parser] info: Buy time end. [tick=145471, round_num=21, length=35s 15ms]\n",
      "[2024-02-26 10:38:20.575] [parser] info: Someone MVPed this round. [name=Seminidas, sid=76561199245542035, reason=CSMVP_ELIMINATION, tick=146423, round_num=21]\n",
      "[2024-02-26 10:38:20.576] [parser] info: Round ended. [tick=146423, round_num=21, reason=CTs_Win, winner_team=WINNER_CT]\n",
      "[2024-02-26 10:38:20.578] [parser] info: Round officially ended. [num=21, tick=146616, length=52s, end_reason=CTs_Win, winner_team=WINNER_CT, CT/T survivors=2/0 CT/T score=13/9]\n",
      "[2024-02-26 10:38:20.578] [parser] info: Most probable demo type is \"DemoType_Matchmaking\"\n",
      "[2024-02-26 10:38:20.578] [parser] info: Match end. [tick=146616, round_num=21]\n",
      "[2024-02-26 10:38:20.578] [parser] info: Got total amount of 149799 ticks, however collected 146533\n",
      "[2024-02-26 10:38:20.578] [parser] info: Finished processing demo ticks. [tick=146616]\n",
      "[2024-02-26 10:38:20.578] [parser] info: Parser finished.\n",
      "[2024-02-26 10:38:20.578] [parser-binder] info: Parser finished parsing of the demo file. [return_code=0]\n"
     ]
    }
   ],
   "source": [
    "from ed_analysis.statistics.main_stat import MainStat"
   ]
  },
  {
   "cell_type": "code",
   "execution_count": 5,
   "metadata": {},
   "outputs": [
    {
     "name": "stdout",
     "output_type": "stream",
     "text": [
      "[2024-02-26 10:38:20.740] [parser-binder] info: Fetched players. [num_players=1465330]\n",
      "[2024-02-26 10:38:20.817] [parser-binder] info: Fetched player weapons. [num_player_weapons=1873456]\n",
      "[2024-02-26 10:38:20.824] [parser-binder] info: Fetched ticks. [num_ticks=146533]\n",
      "[2024-02-26 10:38:20.825] [parser-binder] info: Fetched weapon sell actions. [num_weapon_sell_actions=28]\n",
      "[2024-02-26 10:38:20.825] [parser-binder] info: Fetched round phases. [num_round_phases=22]\n",
      "[2024-02-26 10:38:20.825] [parser-binder] info: Fetched kills actions. [num_kill_actions=143]\n",
      "[2024-02-26 10:38:20.825] [parser-binder] info: Fetched player match stats. [num_player_match_stats=10]\n",
      "[2024-02-26 10:38:20.826] [parser-binder] info: Fetched damage actions. [num_damage_actions=587]\n",
      "[2024-02-26 10:38:20.826] [parser-binder] info: Fetched rounds. [num_rounds=22]\n",
      "[2024-02-26 10:38:20.826] [parser-binder] info: Fetched persistent player info. [num_persistent_player_info_per_round=220]\n",
      "[2024-02-26 10:38:20.826] [parser-binder] info: Fetched weapon fire actions. [num_weapon_fire_actions=3576]\n",
      "[2024-02-26 10:38:20.826] [parser-binder] info: Fetched bomb info. [num_bomb_info=22]\n",
      "[2024-02-26 10:38:20.826] [parser-binder] info: Fetched team switch actions. [num_team_switch_actions=1]\n",
      "[2024-02-26 10:38:20.828] [parser-binder] info: Fetched demo info.\n"
     ]
    },
    {
     "name": "stderr",
     "output_type": "stream",
     "text": [
      "/Users/emanueldopater/DepDistContraction/DepDistContractionParallel/env/lib/python3.11/site-packages/ed_analysis/statistics/main_stat.py:534: FutureWarning: Downcasting object dtype arrays on .fillna, .ffill, .bfill is deprecated and will change in a future version. Call result.infer_objects(copy=False) instead. To opt-in to the future behavior, set `pd.set_option('future.no_silent_downcasting', True)`\n",
      "  ].fillna(value=False)\n",
      "/Users/emanueldopater/DepDistContraction/DepDistContractionParallel/env/lib/python3.11/site-packages/ed_analysis/statistics/stats/economy.py:581: FutureWarning: Downcasting object dtype arrays on .fillna, .ffill, .bfill is deprecated and will change in a future version. Call result.infer_objects(copy=False) instead. To opt-in to the future behavior, set `pd.set_option('future.no_silent_downcasting', True)`\n",
      "  self._economoy_computational_table[\"need_drop\"].fillna(value=False)\n"
     ]
    }
   ],
   "source": [
    "main_stat = MainStat(parser)"
   ]
  },
  {
   "cell_type": "code",
   "execution_count": 6,
   "metadata": {},
   "outputs": [
    {
     "data": {
      "text/html": [
       "<div>\n",
       "<style scoped>\n",
       "    .dataframe tbody tr th:only-of-type {\n",
       "        vertical-align: middle;\n",
       "    }\n",
       "\n",
       "    .dataframe tbody tr th {\n",
       "        vertical-align: top;\n",
       "    }\n",
       "\n",
       "    .dataframe thead th {\n",
       "        text-align: right;\n",
       "    }\n",
       "</style>\n",
       "<table border=\"1\" class=\"dataframe\">\n",
       "  <thead>\n",
       "    <tr style=\"text-align: right;\">\n",
       "      <th></th>\n",
       "      <th>round_num</th>\n",
       "      <th>player_sid</th>\n",
       "      <th>crosshair_placement</th>\n",
       "    </tr>\n",
       "  </thead>\n",
       "  <tbody>\n",
       "    <tr>\n",
       "      <th>0</th>\n",
       "      <td>0</td>\n",
       "      <td>76561198160619837</td>\n",
       "      <td>0.0</td>\n",
       "    </tr>\n",
       "    <tr>\n",
       "      <th>1</th>\n",
       "      <td>0</td>\n",
       "      <td>76561198264080527</td>\n",
       "      <td>0.0</td>\n",
       "    </tr>\n",
       "    <tr>\n",
       "      <th>2</th>\n",
       "      <td>0</td>\n",
       "      <td>76561199570503009</td>\n",
       "      <td>0.0</td>\n",
       "    </tr>\n",
       "    <tr>\n",
       "      <th>3</th>\n",
       "      <td>0</td>\n",
       "      <td>76561199579462685</td>\n",
       "      <td>0.0</td>\n",
       "    </tr>\n",
       "    <tr>\n",
       "      <th>4</th>\n",
       "      <td>0</td>\n",
       "      <td>76561199609208956</td>\n",
       "      <td>0.0</td>\n",
       "    </tr>\n",
       "    <tr>\n",
       "      <th>...</th>\n",
       "      <td>...</td>\n",
       "      <td>...</td>\n",
       "      <td>...</td>\n",
       "    </tr>\n",
       "    <tr>\n",
       "      <th>215</th>\n",
       "      <td>21</td>\n",
       "      <td>76561199554136694</td>\n",
       "      <td>0.0</td>\n",
       "    </tr>\n",
       "    <tr>\n",
       "      <th>216</th>\n",
       "      <td>21</td>\n",
       "      <td>76561199474191383</td>\n",
       "      <td>0.0</td>\n",
       "    </tr>\n",
       "    <tr>\n",
       "      <th>217</th>\n",
       "      <td>21</td>\n",
       "      <td>76561199514074458</td>\n",
       "      <td>0.0</td>\n",
       "    </tr>\n",
       "    <tr>\n",
       "      <th>218</th>\n",
       "      <td>21</td>\n",
       "      <td>76561199245542035</td>\n",
       "      <td>0.0</td>\n",
       "    </tr>\n",
       "    <tr>\n",
       "      <th>219</th>\n",
       "      <td>21</td>\n",
       "      <td>76561199580965630</td>\n",
       "      <td>0.0</td>\n",
       "    </tr>\n",
       "  </tbody>\n",
       "</table>\n",
       "<p>220 rows × 3 columns</p>\n",
       "</div>"
      ],
      "text/plain": [
       "     round_num         player_sid  crosshair_placement\n",
       "0            0  76561198160619837                  0.0\n",
       "1            0  76561198264080527                  0.0\n",
       "2            0  76561199570503009                  0.0\n",
       "3            0  76561199579462685                  0.0\n",
       "4            0  76561199609208956                  0.0\n",
       "..         ...                ...                  ...\n",
       "215         21  76561199554136694                  0.0\n",
       "216         21  76561199474191383                  0.0\n",
       "217         21  76561199514074458                  0.0\n",
       "218         21  76561199245542035                  0.0\n",
       "219         21  76561199580965630                  0.0\n",
       "\n",
       "[220 rows x 3 columns]"
      ]
     },
     "execution_count": 6,
     "metadata": {},
     "output_type": "execute_result"
    }
   ],
   "source": [
    "main_stat.aim.cross_hair_placement()"
   ]
  }
 ],
 "metadata": {
  "kernelspec": {
   "display_name": "env",
   "language": "python",
   "name": "python3"
  },
  "language_info": {
   "codemirror_mode": {
    "name": "ipython",
    "version": 3
   },
   "file_extension": ".py",
   "mimetype": "text/x-python",
   "name": "python",
   "nbconvert_exporter": "python",
   "pygments_lexer": "ipython3",
   "version": "3.11.7"
  }
 },
 "nbformat": 4,
 "nbformat_minor": 2
}
