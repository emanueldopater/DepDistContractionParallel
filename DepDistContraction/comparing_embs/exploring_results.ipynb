{
 "cells": [
  {
   "cell_type": "code",
   "execution_count": 1,
   "metadata": {},
   "outputs": [],
   "source": [
    "import pandas as pd\n",
    "import numpy as np\n",
    "import matplotlib.pyplot as plt\n",
    "import seaborn as sns\n",
    "import os\n",
    "import sys\n",
    "import math\n",
    "import random"
   ]
  },
  {
   "cell_type": "code",
   "execution_count": 10,
   "metadata": {},
   "outputs": [],
   "source": [
    "# read csv \n",
    "df = pd.read_csv('../results/airports/dim_128/embs_t/emb_0.embs', sep='\\t', header=None)"
   ]
  },
  {
   "cell_type": "code",
   "execution_count": 11,
   "metadata": {},
   "outputs": [],
   "source": [
    "# drop first column\n",
    "df = df.drop(df.columns[0], axis=1)"
   ]
  },
  {
   "cell_type": "code",
   "execution_count": 12,
   "metadata": {},
   "outputs": [
    {
     "data": {
      "text/html": [
       "<div>\n",
       "<style scoped>\n",
       "    .dataframe tbody tr th:only-of-type {\n",
       "        vertical-align: middle;\n",
       "    }\n",
       "\n",
       "    .dataframe tbody tr th {\n",
       "        vertical-align: top;\n",
       "    }\n",
       "\n",
       "    .dataframe thead th {\n",
       "        text-align: right;\n",
       "    }\n",
       "</style>\n",
       "<table border=\"1\" class=\"dataframe\">\n",
       "  <thead>\n",
       "    <tr style=\"text-align: right;\">\n",
       "      <th></th>\n",
       "      <th>1</th>\n",
       "      <th>2</th>\n",
       "      <th>3</th>\n",
       "      <th>4</th>\n",
       "      <th>5</th>\n",
       "      <th>6</th>\n",
       "      <th>7</th>\n",
       "      <th>8</th>\n",
       "      <th>9</th>\n",
       "      <th>10</th>\n",
       "      <th>...</th>\n",
       "      <th>119</th>\n",
       "      <th>120</th>\n",
       "      <th>121</th>\n",
       "      <th>122</th>\n",
       "      <th>123</th>\n",
       "      <th>124</th>\n",
       "      <th>125</th>\n",
       "      <th>126</th>\n",
       "      <th>127</th>\n",
       "      <th>128</th>\n",
       "    </tr>\n",
       "  </thead>\n",
       "  <tbody>\n",
       "    <tr>\n",
       "      <th>0</th>\n",
       "      <td>0.194850</td>\n",
       "      <td>0.522534</td>\n",
       "      <td>0.689290</td>\n",
       "      <td>0.354894</td>\n",
       "      <td>0.260872</td>\n",
       "      <td>0.514097</td>\n",
       "      <td>0.253207</td>\n",
       "      <td>0.595333</td>\n",
       "      <td>0.194917</td>\n",
       "      <td>0.223072</td>\n",
       "      <td>...</td>\n",
       "      <td>0.823134</td>\n",
       "      <td>0.748662</td>\n",
       "      <td>0.902670</td>\n",
       "      <td>0.520788</td>\n",
       "      <td>0.767437</td>\n",
       "      <td>0.094932</td>\n",
       "      <td>0.914111</td>\n",
       "      <td>0.789936</td>\n",
       "      <td>0.152945</td>\n",
       "      <td>0.352537</td>\n",
       "    </tr>\n",
       "    <tr>\n",
       "      <th>1</th>\n",
       "      <td>0.286751</td>\n",
       "      <td>0.455292</td>\n",
       "      <td>0.305496</td>\n",
       "      <td>0.554955</td>\n",
       "      <td>0.903022</td>\n",
       "      <td>0.033533</td>\n",
       "      <td>0.972394</td>\n",
       "      <td>0.733323</td>\n",
       "      <td>0.095202</td>\n",
       "      <td>0.528277</td>\n",
       "      <td>...</td>\n",
       "      <td>0.472554</td>\n",
       "      <td>0.059849</td>\n",
       "      <td>0.918955</td>\n",
       "      <td>0.368948</td>\n",
       "      <td>0.353959</td>\n",
       "      <td>0.094879</td>\n",
       "      <td>0.520857</td>\n",
       "      <td>0.634131</td>\n",
       "      <td>0.000904</td>\n",
       "      <td>0.476141</td>\n",
       "    </tr>\n",
       "    <tr>\n",
       "      <th>2</th>\n",
       "      <td>0.590444</td>\n",
       "      <td>0.388209</td>\n",
       "      <td>0.887542</td>\n",
       "      <td>0.592397</td>\n",
       "      <td>0.367238</td>\n",
       "      <td>0.699808</td>\n",
       "      <td>0.818583</td>\n",
       "      <td>0.416402</td>\n",
       "      <td>0.263914</td>\n",
       "      <td>0.219616</td>\n",
       "      <td>...</td>\n",
       "      <td>0.610166</td>\n",
       "      <td>0.699102</td>\n",
       "      <td>0.214539</td>\n",
       "      <td>0.270669</td>\n",
       "      <td>0.294663</td>\n",
       "      <td>0.966354</td>\n",
       "      <td>0.210277</td>\n",
       "      <td>0.301854</td>\n",
       "      <td>0.055407</td>\n",
       "      <td>0.829522</td>\n",
       "    </tr>\n",
       "    <tr>\n",
       "      <th>3</th>\n",
       "      <td>0.906330</td>\n",
       "      <td>0.667243</td>\n",
       "      <td>0.357150</td>\n",
       "      <td>0.192140</td>\n",
       "      <td>0.643328</td>\n",
       "      <td>0.759852</td>\n",
       "      <td>0.720052</td>\n",
       "      <td>0.671675</td>\n",
       "      <td>0.416702</td>\n",
       "      <td>0.863945</td>\n",
       "      <td>...</td>\n",
       "      <td>0.104704</td>\n",
       "      <td>0.609510</td>\n",
       "      <td>0.396836</td>\n",
       "      <td>0.026889</td>\n",
       "      <td>0.019957</td>\n",
       "      <td>0.655622</td>\n",
       "      <td>0.239923</td>\n",
       "      <td>0.266802</td>\n",
       "      <td>0.473310</td>\n",
       "      <td>0.944319</td>\n",
       "    </tr>\n",
       "    <tr>\n",
       "      <th>4</th>\n",
       "      <td>0.702661</td>\n",
       "      <td>0.989792</td>\n",
       "      <td>0.133486</td>\n",
       "      <td>0.014256</td>\n",
       "      <td>0.937186</td>\n",
       "      <td>0.776951</td>\n",
       "      <td>0.835919</td>\n",
       "      <td>0.460583</td>\n",
       "      <td>0.695607</td>\n",
       "      <td>0.517750</td>\n",
       "      <td>...</td>\n",
       "      <td>0.661518</td>\n",
       "      <td>0.003356</td>\n",
       "      <td>0.115758</td>\n",
       "      <td>0.082612</td>\n",
       "      <td>0.602854</td>\n",
       "      <td>0.764776</td>\n",
       "      <td>0.985362</td>\n",
       "      <td>0.609201</td>\n",
       "      <td>0.280344</td>\n",
       "      <td>0.828237</td>\n",
       "    </tr>\n",
       "    <tr>\n",
       "      <th>...</th>\n",
       "      <td>...</td>\n",
       "      <td>...</td>\n",
       "      <td>...</td>\n",
       "      <td>...</td>\n",
       "      <td>...</td>\n",
       "      <td>...</td>\n",
       "      <td>...</td>\n",
       "      <td>...</td>\n",
       "      <td>...</td>\n",
       "      <td>...</td>\n",
       "      <td>...</td>\n",
       "      <td>...</td>\n",
       "      <td>...</td>\n",
       "      <td>...</td>\n",
       "      <td>...</td>\n",
       "      <td>...</td>\n",
       "      <td>...</td>\n",
       "      <td>...</td>\n",
       "      <td>...</td>\n",
       "      <td>...</td>\n",
       "      <td>...</td>\n",
       "    </tr>\n",
       "    <tr>\n",
       "      <th>457</th>\n",
       "      <td>0.031585</td>\n",
       "      <td>0.562148</td>\n",
       "      <td>0.461029</td>\n",
       "      <td>0.679722</td>\n",
       "      <td>0.611867</td>\n",
       "      <td>0.597394</td>\n",
       "      <td>0.982263</td>\n",
       "      <td>0.846112</td>\n",
       "      <td>0.057351</td>\n",
       "      <td>0.377192</td>\n",
       "      <td>...</td>\n",
       "      <td>0.751639</td>\n",
       "      <td>0.773820</td>\n",
       "      <td>0.687289</td>\n",
       "      <td>0.857440</td>\n",
       "      <td>0.073994</td>\n",
       "      <td>0.927249</td>\n",
       "      <td>0.859622</td>\n",
       "      <td>0.418103</td>\n",
       "      <td>0.184658</td>\n",
       "      <td>0.831926</td>\n",
       "    </tr>\n",
       "    <tr>\n",
       "      <th>458</th>\n",
       "      <td>0.483802</td>\n",
       "      <td>0.542901</td>\n",
       "      <td>0.106319</td>\n",
       "      <td>0.066510</td>\n",
       "      <td>0.537678</td>\n",
       "      <td>0.265100</td>\n",
       "      <td>0.683282</td>\n",
       "      <td>0.608995</td>\n",
       "      <td>0.630079</td>\n",
       "      <td>0.214773</td>\n",
       "      <td>...</td>\n",
       "      <td>0.522055</td>\n",
       "      <td>0.316865</td>\n",
       "      <td>0.028989</td>\n",
       "      <td>0.824971</td>\n",
       "      <td>0.334678</td>\n",
       "      <td>0.466332</td>\n",
       "      <td>0.284628</td>\n",
       "      <td>0.807327</td>\n",
       "      <td>0.714118</td>\n",
       "      <td>0.266215</td>\n",
       "    </tr>\n",
       "    <tr>\n",
       "      <th>459</th>\n",
       "      <td>0.816579</td>\n",
       "      <td>0.949751</td>\n",
       "      <td>0.586117</td>\n",
       "      <td>0.200564</td>\n",
       "      <td>0.995860</td>\n",
       "      <td>0.330237</td>\n",
       "      <td>0.574889</td>\n",
       "      <td>0.391739</td>\n",
       "      <td>0.726375</td>\n",
       "      <td>0.393276</td>\n",
       "      <td>...</td>\n",
       "      <td>0.257062</td>\n",
       "      <td>0.390617</td>\n",
       "      <td>0.872480</td>\n",
       "      <td>0.122377</td>\n",
       "      <td>0.266816</td>\n",
       "      <td>0.120654</td>\n",
       "      <td>0.153362</td>\n",
       "      <td>0.388099</td>\n",
       "      <td>0.609802</td>\n",
       "      <td>0.971255</td>\n",
       "    </tr>\n",
       "    <tr>\n",
       "      <th>460</th>\n",
       "      <td>0.936146</td>\n",
       "      <td>0.108372</td>\n",
       "      <td>0.099589</td>\n",
       "      <td>0.011788</td>\n",
       "      <td>0.059055</td>\n",
       "      <td>0.651315</td>\n",
       "      <td>0.026322</td>\n",
       "      <td>0.585743</td>\n",
       "      <td>0.671179</td>\n",
       "      <td>0.413761</td>\n",
       "      <td>...</td>\n",
       "      <td>0.358627</td>\n",
       "      <td>0.769388</td>\n",
       "      <td>0.414064</td>\n",
       "      <td>0.290828</td>\n",
       "      <td>0.892499</td>\n",
       "      <td>0.866206</td>\n",
       "      <td>0.239700</td>\n",
       "      <td>0.390255</td>\n",
       "      <td>0.781613</td>\n",
       "      <td>0.608574</td>\n",
       "    </tr>\n",
       "    <tr>\n",
       "      <th>461</th>\n",
       "      <td>0.022820</td>\n",
       "      <td>0.819391</td>\n",
       "      <td>0.233183</td>\n",
       "      <td>0.444313</td>\n",
       "      <td>0.457954</td>\n",
       "      <td>0.147355</td>\n",
       "      <td>0.066196</td>\n",
       "      <td>0.609578</td>\n",
       "      <td>0.987239</td>\n",
       "      <td>0.128389</td>\n",
       "      <td>...</td>\n",
       "      <td>0.983116</td>\n",
       "      <td>0.050513</td>\n",
       "      <td>0.389990</td>\n",
       "      <td>0.891640</td>\n",
       "      <td>0.671724</td>\n",
       "      <td>0.764891</td>\n",
       "      <td>0.905542</td>\n",
       "      <td>0.269718</td>\n",
       "      <td>0.863979</td>\n",
       "      <td>0.119397</td>\n",
       "    </tr>\n",
       "  </tbody>\n",
       "</table>\n",
       "<p>462 rows × 128 columns</p>\n",
       "</div>"
      ],
      "text/plain": [
       "          1         2         3         4         5         6         7    \\\n",
       "0    0.194850  0.522534  0.689290  0.354894  0.260872  0.514097  0.253207   \n",
       "1    0.286751  0.455292  0.305496  0.554955  0.903022  0.033533  0.972394   \n",
       "2    0.590444  0.388209  0.887542  0.592397  0.367238  0.699808  0.818583   \n",
       "3    0.906330  0.667243  0.357150  0.192140  0.643328  0.759852  0.720052   \n",
       "4    0.702661  0.989792  0.133486  0.014256  0.937186  0.776951  0.835919   \n",
       "..        ...       ...       ...       ...       ...       ...       ...   \n",
       "457  0.031585  0.562148  0.461029  0.679722  0.611867  0.597394  0.982263   \n",
       "458  0.483802  0.542901  0.106319  0.066510  0.537678  0.265100  0.683282   \n",
       "459  0.816579  0.949751  0.586117  0.200564  0.995860  0.330237  0.574889   \n",
       "460  0.936146  0.108372  0.099589  0.011788  0.059055  0.651315  0.026322   \n",
       "461  0.022820  0.819391  0.233183  0.444313  0.457954  0.147355  0.066196   \n",
       "\n",
       "          8         9         10   ...       119       120       121  \\\n",
       "0    0.595333  0.194917  0.223072  ...  0.823134  0.748662  0.902670   \n",
       "1    0.733323  0.095202  0.528277  ...  0.472554  0.059849  0.918955   \n",
       "2    0.416402  0.263914  0.219616  ...  0.610166  0.699102  0.214539   \n",
       "3    0.671675  0.416702  0.863945  ...  0.104704  0.609510  0.396836   \n",
       "4    0.460583  0.695607  0.517750  ...  0.661518  0.003356  0.115758   \n",
       "..        ...       ...       ...  ...       ...       ...       ...   \n",
       "457  0.846112  0.057351  0.377192  ...  0.751639  0.773820  0.687289   \n",
       "458  0.608995  0.630079  0.214773  ...  0.522055  0.316865  0.028989   \n",
       "459  0.391739  0.726375  0.393276  ...  0.257062  0.390617  0.872480   \n",
       "460  0.585743  0.671179  0.413761  ...  0.358627  0.769388  0.414064   \n",
       "461  0.609578  0.987239  0.128389  ...  0.983116  0.050513  0.389990   \n",
       "\n",
       "          122       123       124       125       126       127       128  \n",
       "0    0.520788  0.767437  0.094932  0.914111  0.789936  0.152945  0.352537  \n",
       "1    0.368948  0.353959  0.094879  0.520857  0.634131  0.000904  0.476141  \n",
       "2    0.270669  0.294663  0.966354  0.210277  0.301854  0.055407  0.829522  \n",
       "3    0.026889  0.019957  0.655622  0.239923  0.266802  0.473310  0.944319  \n",
       "4    0.082612  0.602854  0.764776  0.985362  0.609201  0.280344  0.828237  \n",
       "..        ...       ...       ...       ...       ...       ...       ...  \n",
       "457  0.857440  0.073994  0.927249  0.859622  0.418103  0.184658  0.831926  \n",
       "458  0.824971  0.334678  0.466332  0.284628  0.807327  0.714118  0.266215  \n",
       "459  0.122377  0.266816  0.120654  0.153362  0.388099  0.609802  0.971255  \n",
       "460  0.290828  0.892499  0.866206  0.239700  0.390255  0.781613  0.608574  \n",
       "461  0.891640  0.671724  0.764891  0.905542  0.269718  0.863979  0.119397  \n",
       "\n",
       "[462 rows x 128 columns]"
      ]
     },
     "execution_count": 12,
     "metadata": {},
     "output_type": "execute_result"
    }
   ],
   "source": [
    "df"
   ]
  },
  {
   "cell_type": "code",
   "execution_count": 13,
   "metadata": {},
   "outputs": [],
   "source": [
    "# Compute variance for the first three columns\n",
    "variances = df.var()\n",
    "\n",
    "# Print variances"
   ]
  },
  {
   "cell_type": "code",
   "execution_count": 22,
   "metadata": {},
   "outputs": [],
   "source": [
    "import math"
   ]
  },
  {
   "cell_type": "code",
   "execution_count": 14,
   "metadata": {},
   "outputs": [
    {
     "data": {
      "text/plain": [
       "0.09179058473972367"
      ]
     },
     "execution_count": 14,
     "metadata": {},
     "output_type": "execute_result"
    }
   ],
   "source": [
    "max(variances)"
   ]
  },
  {
   "cell_type": "code",
   "execution_count": 50,
   "metadata": {},
   "outputs": [
    {
     "data": {
      "text/plain": [
       "0.7943282347242815"
      ]
     },
     "execution_count": 50,
     "metadata": {},
     "output_type": "execute_result"
    }
   ],
   "source": [
    "(0.1) ** (1/10)"
   ]
  },
  {
   "cell_type": "code",
   "execution_count": 6,
   "metadata": {},
   "outputs": [
    {
     "data": {
      "text/plain": [
       "-0.3086664728520744"
      ]
     },
     "execution_count": 6,
     "metadata": {},
     "output_type": "execute_result"
    }
   ],
   "source": [
    "math.log(1 + 0.9, 1/8) "
   ]
  },
  {
   "cell_type": "code",
   "execution_count": 140,
   "metadata": {},
   "outputs": [
    {
     "data": {
      "text/plain": [
       "0.012110961542212993"
      ]
     },
     "execution_count": 140,
     "metadata": {},
     "output_type": "execute_result"
    }
   ],
   "source": [
    "math.log(1 + random.random(), 10)"
   ]
  },
  {
   "cell_type": "code",
   "execution_count": 238,
   "metadata": {},
   "outputs": [
    {
     "name": "stdout",
     "output_type": "stream",
     "text": [
      "0.49998409881001876\n"
     ]
    }
   ],
   "source": [
    "rand_num = random.random()\n",
    "random_emb = (rand_num ** (1/20)) * (0.95 ** 200)\n",
    "# in 1/2 chance it will change sign \n",
    "if rand_num < 0.5:\n",
    "    random_emb *= -1\n",
    "\n",
    "print((random_emb+1)/2)\n"
   ]
  },
  {
   "cell_type": "code",
   "execution_count": 88,
   "metadata": {},
   "outputs": [
    {
     "data": {
      "text/plain": [
       "0.11326208851862246"
      ]
     },
     "execution_count": 88,
     "metadata": {},
     "output_type": "execute_result"
    }
   ],
   "source": [
    "rand_emb"
   ]
  },
  {
   "cell_type": "code",
   "execution_count": 83,
   "metadata": {},
   "outputs": [
    {
     "data": {
      "text/plain": [
       "0.9815617621767455"
      ]
     },
     "execution_count": 83,
     "metadata": {},
     "output_type": "execute_result"
    }
   ],
   "source": [
    "(random.random() ** (1/5)) "
   ]
  },
  {
   "cell_type": "code",
   "execution_count": null,
   "metadata": {},
   "outputs": [],
   "source": []
  },
  {
   "cell_type": "code",
   "execution_count": 16,
   "metadata": {},
   "outputs": [
    {
     "data": {
      "text/plain": [
       "0.11326208851862246"
      ]
     },
     "execution_count": 16,
     "metadata": {},
     "output_type": "execute_result"
    }
   ],
   "source": [
    "rand_emb"
   ]
  },
  {
   "cell_type": "code",
   "execution_count": 63,
   "metadata": {},
   "outputs": [
    {
     "data": {
      "text/plain": [
       "0.9778051925184742"
      ]
     },
     "execution_count": 63,
     "metadata": {},
     "output_type": "execute_result"
    }
   ],
   "source": [
    "0.51 ** (1/30)"
   ]
  },
  {
   "cell_type": "code",
   "execution_count": null,
   "metadata": {},
   "outputs": [],
   "source": [
    "1 "
   ]
  },
  {
   "cell_type": "code",
   "execution_count": 35,
   "metadata": {},
   "outputs": [
    {
     "ename": "SyntaxError",
     "evalue": "invalid syntax (2745508177.py, line 1)",
     "output_type": "error",
     "traceback": [
      "\u001b[0;36m  Cell \u001b[0;32mIn[35], line 1\u001b[0;36m\u001b[0m\n\u001b[0;31m    0.6 1000\u001b[0m\n\u001b[0m        ^\u001b[0m\n\u001b[0;31mSyntaxError\u001b[0m\u001b[0;31m:\u001b[0m invalid syntax\n"
     ]
    }
   ],
   "source": [
    "0.6 "
   ]
  },
  {
   "cell_type": "code",
   "execution_count": null,
   "metadata": {},
   "outputs": [],
   "source": [
    "0.6 "
   ]
  },
  {
   "cell_type": "code",
   "execution_count": 18,
   "metadata": {},
   "outputs": [],
   "source": [
    "import math\n",
    "import random\n"
   ]
  },
  {
   "cell_type": "code",
   "execution_count": 15,
   "metadata": {},
   "outputs": [],
   "source": []
  },
  {
   "cell_type": "code",
   "execution_count": 19,
   "metadata": {},
   "outputs": [],
   "source": []
  },
  {
   "cell_type": "code",
   "execution_count": 24,
   "metadata": {},
   "outputs": [],
   "source": []
  },
  {
   "cell_type": "code",
   "execution_count": 117,
   "metadata": {},
   "outputs": [
    {
     "name": "stdout",
     "output_type": "stream",
     "text": [
      "0.5100429787017041\n"
     ]
    }
   ],
   "source": [
    "DEG = 2200\n",
    "interval = 0.5 * math.log(1 + math.sqrt(1 / (1 + DEG)) , 2)\n",
    "number_from_interval = random.uniform(0, interval)\n",
    "rand_num = random.random()\n",
    "if rand_num < 0.5:\n",
    "    number_from_interval *= -1\n",
    "\n",
    "rand_emb = 0.5 + number_from_interval\n",
    "print(rand_emb)\n"
   ]
  },
  {
   "cell_type": "code",
   "execution_count": 26,
   "metadata": {},
   "outputs": [],
   "source": [
    "rand_emb = 0.5 + number_from_interval\n"
   ]
  },
  {
   "cell_type": "code",
   "execution_count": null,
   "metadata": {},
   "outputs": [],
   "source": [
    "rand_emb = \n"
   ]
  },
  {
   "cell_type": "code",
   "execution_count": 58,
   "metadata": {},
   "outputs": [
    {
     "data": {
      "text/plain": [
       "1.0457574905606752"
      ]
     },
     "execution_count": 58,
     "metadata": {},
     "output_type": "execute_result"
    }
   ],
   "source": [
    "math.log(1 / 0.9, 10) + 1 "
   ]
  }
 ],
 "metadata": {
  "kernelspec": {
   "display_name": "Python 3",
   "language": "python",
   "name": "python3"
  },
  "language_info": {
   "codemirror_mode": {
    "name": "ipython",
    "version": 3
   },
   "file_extension": ".py",
   "mimetype": "text/x-python",
   "name": "python",
   "nbconvert_exporter": "python",
   "pygments_lexer": "ipython3",
   "version": "3.11.7"
  }
 },
 "nbformat": 4,
 "nbformat_minor": 2
}
