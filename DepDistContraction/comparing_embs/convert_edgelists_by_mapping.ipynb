{
 "cells": [
  {
   "cell_type": "code",
   "execution_count": 1,
   "metadata": {},
   "outputs": [],
   "source": [
    "import csv"
   ]
  },
  {
   "cell_type": "code",
   "execution_count": 2,
   "metadata": {},
   "outputs": [],
   "source": [
    "\n",
    "nets = ['airports', 'mouse_brain', 'github', 'emails']"
   ]
  },
  {
   "cell_type": "code",
   "execution_count": 4,
   "metadata": {},
   "outputs": [],
   "source": [
    "for net in nets:\n",
    "    net_mapping = {}\n",
    "    with open(\"../results/nodes_mapping/\" + net + \"_mapping.csv\", \"r\") as f:\n",
    "        reader = csv.reader(f, delimiter=\" \")\n",
    "        for row in reader:\n",
    "            net_mapping[row[0]] = row[1]\n",
    "\n",
    "    # Open the airports.csv file and replace the airport codes\n",
    "    with open(\"../nets_from_article/\" + net + \".csv\", \"r\") as f, open(\n",
    "        \"../results/remapped_nets/\" +\n",
    "        net + \"_reindexed.csv\", \"w\", newline=\"\"\n",
    "    ) as f_out:\n",
    "        reader = csv.reader(f, delimiter=\" \")\n",
    "        writer = csv.writer(f_out, delimiter=\" \")\n",
    "        for row in reader:\n",
    "            row[0] = net_mapping.get(row[0], row[0])  # Replace the source airport code\n",
    "            row[1] = net_mapping.get(\n",
    "                row[1], row[1]\n",
    "            ) \n",
    "            writer.writerow(row)"
   ]
  },
  {
   "cell_type": "code",
   "execution_count": 5,
   "metadata": {},
   "outputs": [],
   "source": [
    "nets.remove('github')"
   ]
  },
  {
   "cell_type": "code",
   "execution_count": null,
   "metadata": {},
   "outputs": [],
   "source": [
    "for net in nets:\n",
    "    net_mapping = {}\n",
    "    with open(\"../results/nodes_mapping/\" + net + \"_mapping_0.csv\", \"r\") as f:\n",
    "        reader = csv.reader(f, delimiter=\" \")\n",
    "        for row in reader:\n",
    "            net_mapping[row[0]] = row[1]\n",
    "\n",
    "    # Open the airports.csv file and replace the airport codes\n",
    "    with open(\"../nets_from_article/\" + net + \".csv\", \"r\") as f, open(\n",
    "        \"../results/remapped_nets/\" +\n",
    "        net + \"_reindexed_0.csv\", \"w\", newline=\"\"\n",
    "    ) as f_out:\n",
    "        reader = csv.reader(f, delimiter=\" \")\n",
    "        writer = csv.writer(f_out, delimiter=\" \")\n",
    "        for row in reader:\n",
    "            row[0] = net_mapping.get(row[0], row[0])  # Replace the source airport code\n",
    "            row[1] = net_mapping.get(\n",
    "                row[1], row[1]\n",
    "            ) \n",
    "            writer.writerow(row)"
   ]
  }
 ],
 "metadata": {
  "kernelspec": {
   "display_name": "env",
   "language": "python",
   "name": "python3"
  },
  "language_info": {
   "codemirror_mode": {
    "name": "ipython",
    "version": 3
   },
   "file_extension": ".py",
   "mimetype": "text/x-python",
   "name": "python",
   "nbconvert_exporter": "python",
   "pygments_lexer": "ipython3",
   "version": "3.12.1"
  }
 },
 "nbformat": 4,
 "nbformat_minor": 2
}
